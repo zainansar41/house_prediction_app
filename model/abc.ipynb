{
 "cells": [
  {
   "cell_type": "code",
   "execution_count": 4,
   "metadata": {},
   "outputs": [
    {
     "name": "stdout",
     "output_type": "stream",
     "text": [
      "WARNING:tensorflow:From c:\\Python\\Python311\\Lib\\site-packages\\keras\\src\\losses.py:2976: The name tf.losses.sparse_softmax_cross_entropy is deprecated. Please use tf.compat.v1.losses.sparse_softmax_cross_entropy instead.\n",
      "\n"
     ]
    },
    {
     "name": "stderr",
     "output_type": "stream",
     "text": [
      "C:\\Users\\Hp\\AppData\\Local\\Temp\\ipykernel_9132\\3649911263.py:9: DtypeWarning: Columns (12) have mixed types. Specify dtype option on import or set low_memory=False.\n",
      "  data = pd.read_csv('C:\\\\Users\\\\Hp\\\\Desktop\\\\zameen-property-data.csv')\n"
     ]
    },
    {
     "name": "stdout",
     "output_type": "stream",
     "text": [
      "WARNING:tensorflow:From c:\\Python\\Python311\\Lib\\site-packages\\keras\\src\\backend.py:873: The name tf.get_default_graph is deprecated. Please use tf.compat.v1.get_default_graph instead.\n",
      "\n",
      "WARNING:tensorflow:From c:\\Python\\Python311\\Lib\\site-packages\\keras\\src\\optimizers\\__init__.py:309: The name tf.train.Optimizer is deprecated. Please use tf.compat.v1.train.Optimizer instead.\n",
      "\n",
      "Epoch 1/50\n",
      "WARNING:tensorflow:From c:\\Python\\Python311\\Lib\\site-packages\\keras\\src\\utils\\tf_utils.py:492: The name tf.ragged.RaggedTensorValue is deprecated. Please use tf.compat.v1.ragged.RaggedTensorValue instead.\n",
      "\n",
      "WARNING:tensorflow:From c:\\Python\\Python311\\Lib\\site-packages\\keras\\src\\engine\\base_layer_utils.py:384: The name tf.executing_eagerly_outside_functions is deprecated. Please use tf.compat.v1.executing_eagerly_outside_functions instead.\n",
      "\n",
      "1249/1249 [==============================] - 8s 5ms/step - loss: 890069493743616.0000 - mae: 19274384.0000 - val_loss: 355616145014784.0000 - val_mae: 9782300.0000\n",
      "Epoch 2/50\n",
      "1249/1249 [==============================] - 5s 4ms/step - loss: 244606088249344.0000 - mae: 8573485.0000 - val_loss: 219235968090112.0000 - val_mae: 7963494.5000\n",
      "Epoch 3/50\n",
      "1249/1249 [==============================] - 5s 4ms/step - loss: 198149289279488.0000 - mae: 7529205.0000 - val_loss: 192261442764800.0000 - val_mae: 7400626.5000\n",
      "Epoch 4/50\n",
      "1249/1249 [==============================] - 4s 4ms/step - loss: 175233340276736.0000 - mae: 7082207.5000 - val_loss: 171302874775552.0000 - val_mae: 7039708.5000\n",
      "Epoch 5/50\n",
      "1249/1249 [==============================] - 5s 4ms/step - loss: 155715213721600.0000 - mae: 6735003.0000 - val_loss: 152446626168832.0000 - val_mae: 6766171.0000\n",
      "Epoch 6/50\n",
      "1249/1249 [==============================] - 4s 4ms/step - loss: 138510304542720.0000 - mae: 6425160.5000 - val_loss: 136587828527104.0000 - val_mae: 6348396.5000\n",
      "Epoch 7/50\n",
      "1249/1249 [==============================] - 5s 4ms/step - loss: 123810443427840.0000 - mae: 6114838.0000 - val_loss: 121585801363456.0000 - val_mae: 6092915.0000\n",
      "Epoch 8/50\n",
      "1249/1249 [==============================] - 5s 4ms/step - loss: 111904609533952.0000 - mae: 5847211.5000 - val_loss: 110623098667008.0000 - val_mae: 5801622.5000\n",
      "Epoch 9/50\n",
      "1249/1249 [==============================] - 5s 4ms/step - loss: 103548046016512.0000 - mae: 5619090.5000 - val_loss: 102986512596992.0000 - val_mae: 5584634.0000\n",
      "Epoch 10/50\n",
      "1249/1249 [==============================] - 4s 4ms/step - loss: 97733977309184.0000 - mae: 5439834.5000 - val_loss: 97272461262848.0000 - val_mae: 5432694.0000\n",
      "Epoch 11/50\n",
      "1249/1249 [==============================] - 4s 4ms/step - loss: 93888219971584.0000 - mae: 5308232.5000 - val_loss: 93431183441920.0000 - val_mae: 5335118.0000\n",
      "Epoch 12/50\n",
      "1249/1249 [==============================] - 5s 4ms/step - loss: 91322471940096.0000 - mae: 5201599.0000 - val_loss: 90872985157632.0000 - val_mae: 5237320.5000\n",
      "Epoch 13/50\n",
      "1249/1249 [==============================] - 5s 4ms/step - loss: 89405381410816.0000 - mae: 5118950.0000 - val_loss: 88829109207040.0000 - val_mae: 5159083.0000\n",
      "Epoch 14/50\n",
      "1249/1249 [==============================] - 6s 5ms/step - loss: 87860778631168.0000 - mae: 5054940.0000 - val_loss: 87211944968192.0000 - val_mae: 5114828.0000\n",
      "Epoch 15/50\n",
      "1249/1249 [==============================] - 6s 5ms/step - loss: 86700701253632.0000 - mae: 5008882.0000 - val_loss: 85861001592832.0000 - val_mae: 5050175.5000\n",
      "Epoch 16/50\n",
      "1249/1249 [==============================] - 5s 4ms/step - loss: 85626917486592.0000 - mae: 4962900.5000 - val_loss: 84603280818176.0000 - val_mae: 5041741.5000\n",
      "Epoch 17/50\n",
      "1249/1249 [==============================] - 4s 4ms/step - loss: 84774223872000.0000 - mae: 4933190.5000 - val_loss: 83430880575488.0000 - val_mae: 4954406.0000\n",
      "Epoch 18/50\n",
      "1249/1249 [==============================] - 5s 4ms/step - loss: 84053617278976.0000 - mae: 4895689.5000 - val_loss: 82308837146624.0000 - val_mae: 4953716.0000\n",
      "Epoch 19/50\n",
      "1249/1249 [==============================] - 5s 4ms/step - loss: 83390338433024.0000 - mae: 4873771.5000 - val_loss: 81445297061888.0000 - val_mae: 4943299.5000\n",
      "Epoch 20/50\n",
      "1249/1249 [==============================] - 5s 4ms/step - loss: 82874321600512.0000 - mae: 4847586.5000 - val_loss: 80899131572224.0000 - val_mae: 4917030.0000\n",
      "Epoch 21/50\n",
      "1249/1249 [==============================] - 6s 4ms/step - loss: 82536176812032.0000 - mae: 4835867.0000 - val_loss: 80383039242240.0000 - val_mae: 4908428.5000\n",
      "Epoch 22/50\n",
      "1249/1249 [==============================] - 8s 6ms/step - loss: 82254655127552.0000 - mae: 4818670.0000 - val_loss: 79985863819264.0000 - val_mae: 4855526.5000\n",
      "Epoch 23/50\n",
      "1249/1249 [==============================] - 5s 4ms/step - loss: 81850039009280.0000 - mae: 4800043.0000 - val_loss: 79686029803520.0000 - val_mae: 4893634.5000\n",
      "Epoch 24/50\n",
      "1249/1249 [==============================] - 5s 4ms/step - loss: 81629452173312.0000 - mae: 4791914.5000 - val_loss: 79132146794496.0000 - val_mae: 4838123.5000\n",
      "Epoch 25/50\n",
      "1249/1249 [==============================] - 5s 4ms/step - loss: 81357711605760.0000 - mae: 4773085.5000 - val_loss: 78868954218496.0000 - val_mae: 4821791.0000\n",
      "Epoch 26/50\n",
      "1249/1249 [==============================] - 5s 4ms/step - loss: 81091272638464.0000 - mae: 4761173.5000 - val_loss: 78850818048000.0000 - val_mae: 4830209.5000\n",
      "Epoch 27/50\n",
      "1249/1249 [==============================] - 5s 4ms/step - loss: 80830344986624.0000 - mae: 4750229.0000 - val_loss: 78460395454464.0000 - val_mae: 4818799.5000\n",
      "Epoch 28/50\n",
      "1249/1249 [==============================] - 5s 4ms/step - loss: 80646500253696.0000 - mae: 4734919.0000 - val_loss: 78308721033216.0000 - val_mae: 4807892.5000\n",
      "Epoch 29/50\n",
      "1249/1249 [==============================] - 5s 4ms/step - loss: 80356447354880.0000 - mae: 4727038.5000 - val_loss: 78128080748544.0000 - val_mae: 4812253.5000\n",
      "Epoch 30/50\n",
      "1249/1249 [==============================] - 5s 4ms/step - loss: 80160892125184.0000 - mae: 4713840.5000 - val_loss: 77892822237184.0000 - val_mae: 4781655.0000\n",
      "Epoch 31/50\n",
      "1249/1249 [==============================] - 5s 4ms/step - loss: 80043971706880.0000 - mae: 4709265.0000 - val_loss: 77765944541184.0000 - val_mae: 4758488.0000\n",
      "Epoch 32/50\n",
      "1249/1249 [==============================] - 5s 4ms/step - loss: 79868918235136.0000 - mae: 4697145.5000 - val_loss: 77465800146944.0000 - val_mae: 4745111.5000\n",
      "Epoch 33/50\n",
      "1249/1249 [==============================] - 5s 4ms/step - loss: 79718770540544.0000 - mae: 4690064.5000 - val_loss: 77272082022400.0000 - val_mae: 4751130.0000\n",
      "Epoch 34/50\n",
      "1249/1249 [==============================] - 5s 4ms/step - loss: 79548884451328.0000 - mae: 4677605.0000 - val_loss: 77194235740160.0000 - val_mae: 4727211.0000\n",
      "Epoch 35/50\n",
      "1249/1249 [==============================] - 5s 4ms/step - loss: 79338145841152.0000 - mae: 4677326.5000 - val_loss: 77175050993664.0000 - val_mae: 4693302.0000\n",
      "Epoch 36/50\n",
      "1249/1249 [==============================] - 5s 4ms/step - loss: 79243497177088.0000 - mae: 4658434.0000 - val_loss: 76997841649664.0000 - val_mae: 4714842.5000\n",
      "Epoch 37/50\n",
      "1249/1249 [==============================] - 5s 4ms/step - loss: 79051624546304.0000 - mae: 4654603.0000 - val_loss: 76728349229056.0000 - val_mae: 4707811.0000\n",
      "Epoch 38/50\n",
      "1249/1249 [==============================] - 5s 4ms/step - loss: 78991377563648.0000 - mae: 4644535.0000 - val_loss: 76652407160832.0000 - val_mae: 4686073.0000\n",
      "Epoch 39/50\n",
      "1249/1249 [==============================] - 5s 4ms/step - loss: 78859458314240.0000 - mae: 4638068.0000 - val_loss: 76472479907840.0000 - val_mae: 4686776.0000\n",
      "Epoch 40/50\n",
      "1249/1249 [==============================] - 5s 4ms/step - loss: 78709444837376.0000 - mae: 4630109.0000 - val_loss: 76292988862464.0000 - val_mae: 4699131.5000\n",
      "Epoch 41/50\n",
      "1249/1249 [==============================] - 5s 4ms/step - loss: 78567929020416.0000 - mae: 4633191.5000 - val_loss: 76304825188352.0000 - val_mae: 4694371.0000\n",
      "Epoch 42/50\n",
      "1249/1249 [==============================] - 6s 5ms/step - loss: 78485821325312.0000 - mae: 4622653.5000 - val_loss: 76245014413312.0000 - val_mae: 4664024.5000\n",
      "Epoch 43/50\n",
      "1249/1249 [==============================] - 5s 4ms/step - loss: 78439491043328.0000 - mae: 4613443.5000 - val_loss: 76153905741824.0000 - val_mae: 4669842.0000\n",
      "Epoch 44/50\n",
      "1249/1249 [==============================] - 5s 4ms/step - loss: 78275166601216.0000 - mae: 4614693.0000 - val_loss: 76108355600384.0000 - val_mae: 4650403.0000\n",
      "Epoch 45/50\n",
      "1249/1249 [==============================] - 5s 4ms/step - loss: 78167825973248.0000 - mae: 4609836.5000 - val_loss: 75949852852224.0000 - val_mae: 4645408.0000\n",
      "Epoch 46/50\n",
      "1249/1249 [==============================] - 5s 4ms/step - loss: 78094308212736.0000 - mae: 4600036.5000 - val_loss: 75884253937664.0000 - val_mae: 4647396.5000\n",
      "Epoch 47/50\n",
      "1249/1249 [==============================] - 5s 4ms/step - loss: 78052440670208.0000 - mae: 4598044.5000 - val_loss: 75757091028992.0000 - val_mae: 4653184.5000\n",
      "Epoch 48/50\n",
      "1249/1249 [==============================] - 5s 4ms/step - loss: 77982832001024.0000 - mae: 4595991.0000 - val_loss: 75680201048064.0000 - val_mae: 4646880.5000\n",
      "Epoch 49/50\n",
      "1249/1249 [==============================] - 5s 4ms/step - loss: 77876179238912.0000 - mae: 4591893.5000 - val_loss: 75684990943232.0000 - val_mae: 4634918.0000\n",
      "Epoch 50/50\n",
      "1249/1249 [==============================] - 5s 4ms/step - loss: 77822844469248.0000 - mae: 4583292.0000 - val_loss: 75863039148032.0000 - val_mae: 4620269.0000\n",
      "313/313 [==============================] - 1s 2ms/step - loss: 75863039148032.0000 - mae: 4620269.0000\n",
      "Mean Squared Error: 75863039148032.0, Mean Absolute Error: 4620269.0\n"
     ]
    },
    {
     "name": "stderr",
     "output_type": "stream",
     "text": [
      "c:\\Python\\Python311\\Lib\\site-packages\\sklearn\\base.py:464: UserWarning: X does not have valid feature names, but StandardScaler was fitted with feature names\n",
      "  warnings.warn(\n"
     ]
    },
    {
     "name": "stdout",
     "output_type": "stream",
     "text": [
      "1/1 [==============================] - 0s 163ms/step\n",
      "Predicted Price: 20385264\n"
     ]
    }
   ],
   "source": [
    "import pandas as pd\n",
    "import numpy as np\n",
    "from sklearn.model_selection import train_test_split\n",
    "from sklearn.preprocessing import StandardScaler\n",
    "from tensorflow.keras.models import Sequential\n",
    "from tensorflow.keras.layers import Dense\n",
    "\n",
    "# Load the dataset\n",
    "data = pd.read_csv('C:\\\\Users\\\\Hp\\\\Desktop\\\\zameen-property-data.csv')\n",
    "data = data.drop(columns=['Unnamed: 4', 'Unnamed: 9', 'Unnamed: 10', 'Unnamed: 11', 'Unnamed: 12'])\n",
    "\n",
    "data_new = data.dropna()\n",
    "\n",
    "location_status = data_new.groupby('location')['location'].agg('count').sort_values(ascending=True)\n",
    "\n",
    "location_less_than_50 = location_status[location_status < 100]\n",
    "\n",
    "data_new = data_new[~data_new['location'].isin(location_less_than_50.index)]\n",
    "data_new = data_new[data_new['bedrooms'] != 0]\n",
    "\n",
    "data_new['location'] = np.where(data_new['location'].isin(location_less_than_50.index), 'Others', data_new['location'])\n",
    "\n",
    "data_new['location'] = data_new['location'].str.lower()\n",
    "\n",
    "dummies = pd.get_dummies(data_new['location'])\n",
    "new_data = pd.concat([data_new, dummies], axis='columns')\n",
    "\n",
    "new_data1 = new_data[new_data.baths < new_data.bedrooms + 2]\n",
    "\n",
    "min_area = new_data1['area'].quantile(0.01)\n",
    "max_area = new_data1['area'].quantile(0.99)\n",
    "\n",
    "filtered_data = new_data1[(new_data1['area'] >= min_area) & (new_data1['area'] <= max_area)]\n",
    "\n",
    "\n",
    "def remove_pps_outliers(df):\n",
    "    df_out = pd.DataFrame()\n",
    "    for key, subdf in df.groupby('location'):\n",
    "        m = np.mean(subdf.area)\n",
    "        st = np.std(subdf.area)\n",
    "        reduced_df = subdf[(subdf.area > (m - st)) & (subdf.area <= (m + st))]\n",
    "        df_out = pd.concat([df_out, reduced_df], ignore_index=True)\n",
    "    return df_out\n",
    "\n",
    "\n",
    "def remove_bedrooms_outliers(df):\n",
    "    exclude_indices = np.array([])\n",
    "    for location, location_df in df.groupby('location'):\n",
    "        bedrooms_stats = {}\n",
    "        for bedrooms, bedrooms_df in location_df.groupby('bedrooms'):\n",
    "            bedrooms_stats[bedrooms] = {\n",
    "                'mean': np.mean(bedrooms_df.area),\n",
    "                'std': np.std(bedrooms_df.area),\n",
    "                'count': bedrooms_df.shape[0]\n",
    "            }\n",
    "        for bedrooms, bedrooms_df in location_df.groupby('bedrooms'):\n",
    "            stats = bedrooms_stats.get(bedrooms - 1)\n",
    "            if stats and stats['count'] > 5:\n",
    "                exclude_indices = np.append(exclude_indices, bedrooms_df[bedrooms_df.area < (stats['mean'])].index.values)\n",
    "    return df.drop(exclude_indices, axis='index')\n",
    "\n",
    "\n",
    "filtered_data = remove_pps_outliers(filtered_data)\n",
    "filtered_data = remove_bedrooms_outliers(filtered_data)\n",
    "filtered_data = filtered_data.drop(['location'], axis='columns')\n",
    "filtered_data = filtered_data.drop(['baths'], axis='columns')\n",
    "filtered_data = filtered_data[filtered_data.purpose != 0]\n",
    "filtered_data = filtered_data.drop(['purpose'], axis='columns')\n",
    "\n",
    "X = filtered_data.drop(['price'], axis='columns')\n",
    "y = filtered_data['price']\n",
    "\n",
    "# Split the data into training and testing sets\n",
    "X_train, X_test, y_train, y_test = train_test_split(X, y, test_size=0.2, random_state=42)\n",
    "\n",
    "# Standardize the features using StandardScaler\n",
    "scaler = StandardScaler()\n",
    "X_train_scaled = scaler.fit_transform(X_train)\n",
    "X_test_scaled = scaler.transform(X_test)\n",
    "\n",
    "# Build a 4-layered ANN model\n",
    "model_ann = Sequential()\n",
    "model_ann.add(Dense(128, input_dim=X_train_scaled.shape[1], activation='relu'))\n",
    "model_ann.add(Dense(64, activation='relu'))\n",
    "model_ann.add(Dense(32, activation='relu'))\n",
    "model_ann.add(Dense(1, activation='linear'))  # Output layer with linear activation for regression\n",
    "\n",
    "# Compile the model\n",
    "model_ann.compile(optimizer='adam', loss='mean_squared_error', metrics=['mae'])\n",
    "\n",
    "# Train the ANN model\n",
    "model_ann.fit(X_train_scaled, y_train, epochs=50, batch_size=32, validation_data=(X_test_scaled, y_test))\n",
    "\n",
    "# Evaluate the model on the test set\n",
    "mse, mae = model_ann.evaluate(X_test_scaled, y_test)\n",
    "print(f'Mean Squared Error: {mse}, Mean Absolute Error: {mae}')\n",
    "\n",
    "\n",
    "# Function to predict the price using the ANN model\n",
    "def predict_price_ann(property_type, City, area, bedrooms, location):\n",
    "    loc_index = np.where(X.columns == location)[0][0]\n",
    "\n",
    "    x = np.zeros(len(X.columns))\n",
    "    x[0] = property_type\n",
    "    x[1] = City\n",
    "    x[2] = area\n",
    "    x[3] = bedrooms\n",
    "    if loc_index >= 0:\n",
    "        x[loc_index] = 1\n",
    "\n",
    "    # Standardize input features before making predictions\n",
    "    x_scaled = scaler.transform([x])\n",
    "    return model_ann.predict(x_scaled)[0][0]\n",
    "\n",
    "\n",
    "# Example usage\n",
    "predicted_price = predict_price_ann(1, 4, 0.5, 3, 'others')\n",
    "print(f'Predicted Price: {int(predicted_price)}')\n"
   ]
  },
  {
   "cell_type": "code",
   "execution_count": 5,
   "metadata": {},
   "outputs": [
    {
     "name": "stdout",
     "output_type": "stream",
     "text": [
      "313/313 [==============================] - 1s 2ms/step\n",
      "R-squared: 0.8742012003379123\n"
     ]
    }
   ],
   "source": [
    "# Predict on the test set\n",
    "y_pred = model_ann.predict(X_test_scaled)\n",
    "\n",
    "# Calculate R-squared\n",
    "ss_residual = np.sum((y_test - y_pred.flatten()) ** 2)\n",
    "ss_total = np.sum((y_test - np.mean(y_test)) ** 2)\n",
    "r_squared = 1 - (ss_residual / ss_total)\n",
    "\n",
    "print(f'R-squared: {r_squared}')\n"
   ]
  },
  {
   "cell_type": "code",
   "execution_count": null,
   "metadata": {},
   "outputs": [],
   "source": []
  },
  {
   "cell_type": "code",
   "execution_count": 6,
   "metadata": {},
   "outputs": [
    {
     "name": "stderr",
     "output_type": "stream",
     "text": [
      "C:\\Users\\Hp\\AppData\\Local\\Temp\\ipykernel_9132\\623425283.py:6: DtypeWarning: Columns (12) have mixed types. Specify dtype option on import or set low_memory=False.\n",
      "  data = pd.read_csv('C:\\\\Users\\\\Hp\\\\Desktop\\\\zameen-property-data.csv')\n"
     ]
    },
    {
     "name": "stdout",
     "output_type": "stream",
     "text": [
      "0.8430501510831687\n",
      "47669248\n"
     ]
    },
    {
     "name": "stderr",
     "output_type": "stream",
     "text": [
      "c:\\Python\\Python311\\Lib\\site-packages\\sklearn\\base.py:464: UserWarning: X does not have valid feature names, but LinearRegression was fitted with feature names\n",
      "  warnings.warn(\n"
     ]
    }
   ],
   "source": [
    "import pandas as pd\n",
    "from sklearn.linear_model import LinearRegression\n",
    "import numpy as np\n",
    "\n",
    "\n",
    "data = pd.read_csv('C:\\\\Users\\\\Hp\\\\Desktop\\\\zameen-property-data.csv')\n",
    "data = data.drop(columns=['Unnamed: 4', 'Unnamed: 9', 'Unnamed: 10', 'Unnamed: 11', 'Unnamed: 12'])\n",
    "\n",
    "data_new = data.dropna()\n",
    "\n",
    "location_status = data_new.groupby('location')['location'].agg('count').sort_values(ascending=True)\n",
    "\n",
    "location_less_than_50 = location_status[location_status < 100]\n",
    "\n",
    "\n",
    "data_new = data_new[~data_new['location'].isin(location_less_than_50.index)]\n",
    "data_new = data_new[data_new['bedrooms'] != 0]\n",
    "\n",
    "#if location is less than 50 replace the location with others\n",
    "data_new['location'] = np.where(data_new['location'].isin(location_less_than_50.index), 'Others', data_new['location'])\n",
    "\n",
    "data_new['location'] = data_new['location'].str.lower()\n",
    "\n",
    "dummies = pd.get_dummies(data_new['location'])\n",
    "new_data = pd.concat([data_new, dummies], axis='columns')\n",
    "\n",
    "\n",
    "new_data1 = new_data[new_data.baths<new_data.bedrooms+2]\n",
    "\n",
    "\n",
    "\n",
    "min_area = new_data1['area'].quantile(0.01)  # Adjust as needed\n",
    "max_area = new_data1['area'].quantile(0.99)  # Adjust as needed\n",
    "\n",
    "filtered_data = new_data1[(new_data1['area'] >= min_area) & (new_data1['area'] <= max_area)]\n",
    "\n",
    "def remove_pps_outliers(df):\n",
    "    df_out = pd.DataFrame()\n",
    "    for key, subdf in df.groupby('location'):\n",
    "        m = np.mean(subdf.area)\n",
    "        st = np.std(subdf.area)\n",
    "        reduced_df = subdf[(subdf.area>(m-st)) & (subdf.area<=(m+st))]\n",
    "        df_out = pd.concat([df_out,reduced_df],ignore_index=True)\n",
    "    return df_out\n",
    "\n",
    "def remove_bedrooms_outliers(df):\n",
    "    exclude_indices = np.array([])\n",
    "    for location, location_df in df.groupby('location'):\n",
    "        bedrooms_stats = {}\n",
    "        for bedrooms, bedrooms_df in location_df.groupby('bedrooms'):\n",
    "            bedrooms_stats[bedrooms] = {\n",
    "                'mean': np.mean(bedrooms_df.area),\n",
    "                'std': np.std(bedrooms_df.area),\n",
    "                'count': bedrooms_df.shape[0]\n",
    "            }\n",
    "        for bedrooms, bedrooms_df in location_df.groupby('bedrooms'):\n",
    "            stats = bedrooms_stats.get(bedrooms-1)\n",
    "            if stats and stats['count']>5:\n",
    "                exclude_indices = np.append(exclude_indices, bedrooms_df[bedrooms_df.area<(stats['mean'])].index.values)\n",
    "    return df.drop(exclude_indices,axis='index')\n",
    "\n",
    "filtered_data = remove_pps_outliers(filtered_data)\n",
    "filtered_data = remove_bedrooms_outliers(filtered_data)\n",
    "filtered_data = filtered_data.drop(['location'], axis='columns')\n",
    "filtered_data = filtered_data.drop(['baths'], axis='columns')\n",
    "filtered_data = filtered_data[filtered_data.purpose != 0]\n",
    "filtered_data = filtered_data.drop(['purpose'], axis='columns')\n",
    "\n",
    "X = filtered_data.drop(['price'], axis='columns')\n",
    "y = filtered_data['price']\n",
    "\n",
    "\n",
    "from sklearn.model_selection import train_test_split\n",
    "X_train, X_test, y_train, y_test = train_test_split(X,y, test_size=.2)\n",
    "\n",
    "from sklearn.linear_model import LinearRegression\n",
    "\n",
    "model = LinearRegression()\n",
    "model.fit(X_train, y_train)\n",
    "print(model.score(X_test, y_test))\n",
    "\n",
    "\n",
    "\n",
    "def predict_price(property_type,City,area,bedrooms,location):    \n",
    "    loc_index = np.where(X.columns==location)[0][0]\n",
    "\n",
    "    x = np.zeros(len(X.columns))\n",
    "    x[0] = property_type\n",
    "    x[1] = City\n",
    "    x[2] = area\n",
    "    x[3] = bedrooms\n",
    "    if loc_index >= 0:\n",
    "        x[loc_index] = 1\n",
    "\n",
    "    return model.predict([x])[0]\n",
    "print(int(predict_price(1,4,.5,3,'others')))\n",
    "\n",
    "\n",
    "\n",
    "\n",
    "\n",
    "\n"
   ]
  },
  {
   "cell_type": "code",
   "execution_count": 7,
   "metadata": {},
   "outputs": [
    {
     "name": "stdout",
     "output_type": "stream",
     "text": [
      "313/313 [==============================] - 1s 2ms/step\n"
     ]
    },
    {
     "data": {
      "image/png": "[encoded data removed]",
      "text/plain": [
       "<Figure size 1400x600 with 2 Axes>"
      ]
     },
     "metadata": {},
     "output_type": "display_data"
    }
   ],
   "source": [
    "import matplotlib.pyplot as plt\n",
    "import seaborn as sns\n",
    "sns.set(style=\"whitegrid\")\n",
    "\n",
    "# Predict on the test set for both models\n",
    "y_pred_linear = model.predict(X_test)\n",
    "y_pred_ann = model_ann.predict(X_test_scaled).flatten()\n",
    "\n",
    "# Create subplots for side-by-side comparison\n",
    "fig, axes = plt.subplots(nrows=1, ncols=2, figsize=(14, 6))\n",
    "\n",
    "# Linear Regression Model\n",
    "sns.scatterplot(x=y_test, y=y_pred_linear, ax=axes[0])\n",
    "axes[0].set_title('Linear Regression Model')\n",
    "axes[0].set_xlabel('Actual Prices')\n",
    "axes[0].set_ylabel('Predicted Prices')\n",
    "\n",
    "# ANN Model\n",
    "sns.scatterplot(x=y_test, y=y_pred_ann, ax=axes[1])\n",
    "axes[1].set_title('ANN Model')\n",
    "axes[1].set_xlabel('Actual Prices')\n",
    "axes[1].set_ylabel('Predicted Prices')\n",
    "\n",
    "plt.tight_layout()\n",
    "plt.show()\n"
   ]
  },
  {
   "cell_type": "code",
   "execution_count": 8,
   "metadata": {},
   "outputs": [
    {
     "data": {
      "text/plain": [
       "0.8430501510831687"
      ]
     },
     "execution_count": 8,
     "metadata": {},
     "output_type": "execute_result"
    }
   ],
   "source": [
    "#find the R squared value of upper model\n",
    "from sklearn.metrics import r2_score\n",
    "y_pred = model.predict(X_test)\n",
    "r2_score(y_test, y_pred)\n"
   ]
  },
  {
   "cell_type": "code",
   "execution_count": 9,
   "metadata": {},
   "outputs": [
    {
     "name": "stderr",
     "output_type": "stream",
     "text": [
      "c:\\Python\\Python311\\Lib\\site-packages\\sklearn\\base.py:464: UserWarning: X does not have valid feature names, but LinearRegression was fitted with feature names\n",
      "  warnings.warn(\n",
      "c:\\Python\\Python311\\Lib\\site-packages\\sklearn\\base.py:464: UserWarning: X does not have valid feature names, but StandardScaler was fitted with feature names\n",
      "  warnings.warn(\n"
     ]
    },
    {
     "name": "stdout",
     "output_type": "stream",
     "text": [
      "1/1 [==============================] - 0s 58ms/step\n",
      "1/1 [==============================] - 0s 35ms/step\n",
      "48500000  |  52694016  |  49063964\n"
     ]
    },
    {
     "name": "stderr",
     "output_type": "stream",
     "text": [
      "c:\\Python\\Python311\\Lib\\site-packages\\sklearn\\base.py:464: UserWarning: X does not have valid feature names, but LinearRegression was fitted with feature names\n",
      "  warnings.warn(\n",
      "c:\\Python\\Python311\\Lib\\site-packages\\sklearn\\base.py:464: UserWarning: X does not have valid feature names, but StandardScaler was fitted with feature names\n",
      "  warnings.warn(\n"
     ]
    }
   ],
   "source": [
    "#take one record from test dataset and find it predicted value from both models and compare to actual value\n",
    "X_test.iloc[0]\n",
    "y_test.iloc[0]\n",
    "model.predict([X_test.iloc[0]])\n",
    "model_ann.predict(scaler.transform([X_test.iloc[0]]))[0][0]\n",
    "\n",
    "print(y_test.iloc[0], ' | ', int(model.predict([X_test.iloc[0]])[0]), ' | ', int(model_ann.predict(scaler.transform([X_test.iloc[0]]))[0][0]))\n",
    "\n",
    "\n"
   ]
  },
  {
   "cell_type": "code",
   "execution_count": 10,
   "metadata": {},
   "outputs": [
    {
     "name": "stderr",
     "output_type": "stream",
     "text": [
      "c:\\Python\\Python311\\Lib\\site-packages\\sklearn\\base.py:464: UserWarning: X does not have valid feature names, but LinearRegression was fitted with feature names\n",
      "  warnings.warn(\n",
      "c:\\Python\\Python311\\Lib\\site-packages\\sklearn\\base.py:464: UserWarning: X does not have valid feature names, but StandardScaler was fitted with feature names\n",
      "  warnings.warn(\n"
     ]
    },
    {
     "name": "stdout",
     "output_type": "stream",
     "text": [
      "1/1 [==============================] - 0s 34ms/step\n"
     ]
    },
    {
     "name": "stderr",
     "output_type": "stream",
     "text": [
      "c:\\Python\\Python311\\Lib\\site-packages\\sklearn\\base.py:464: UserWarning: X does not have valid feature names, but LinearRegression was fitted with feature names\n",
      "  warnings.warn(\n",
      "c:\\Python\\Python311\\Lib\\site-packages\\sklearn\\base.py:464: UserWarning: X does not have valid feature names, but StandardScaler was fitted with feature names\n",
      "  warnings.warn(\n"
     ]
    },
    {
     "name": "stdout",
     "output_type": "stream",
     "text": [
      "1/1 [==============================] - 0s 38ms/step\n",
      "1/1 [==============================] - ETA: 0s"
     ]
    },
    {
     "name": "stderr",
     "output_type": "stream",
     "text": [
      "c:\\Python\\Python311\\Lib\\site-packages\\sklearn\\base.py:464: UserWarning: X does not have valid feature names, but LinearRegression was fitted with feature names\n",
      "  warnings.warn(\n",
      "c:\\Python\\Python311\\Lib\\site-packages\\sklearn\\base.py:464: UserWarning: X does not have valid feature names, but StandardScaler was fitted with feature names\n",
      "  warnings.warn(\n"
     ]
    },
    {
     "name": "stdout",
     "output_type": "stream",
     "text": [
      "1/1 [==============================] - 0s 33ms/step\n",
      "1/1 [==============================] - ETA: 0s"
     ]
    },
    {
     "name": "stderr",
     "output_type": "stream",
     "text": [
      "c:\\Python\\Python311\\Lib\\site-packages\\sklearn\\base.py:464: UserWarning: X does not have valid feature names, but LinearRegression was fitted with feature names\n",
      "  warnings.warn(\n",
      "c:\\Python\\Python311\\Lib\\site-packages\\sklearn\\base.py:464: UserWarning: X does not have valid feature names, but StandardScaler was fitted with feature names\n",
      "  warnings.warn(\n"
     ]
    },
    {
     "name": "stdout",
     "output_type": "stream",
     "text": [
      "1/1 [==============================] - 0s 33ms/step\n",
      "1/1 [==============================] - 0s 31ms/step\n"
     ]
    },
    {
     "name": "stderr",
     "output_type": "stream",
     "text": [
      "c:\\Python\\Python311\\Lib\\site-packages\\sklearn\\base.py:464: UserWarning: X does not have valid feature names, but LinearRegression was fitted with feature names\n",
      "  warnings.warn(\n",
      "c:\\Python\\Python311\\Lib\\site-packages\\sklearn\\base.py:464: UserWarning: X does not have valid feature names, but StandardScaler was fitted with feature names\n",
      "  warnings.warn(\n",
      "c:\\Python\\Python311\\Lib\\site-packages\\sklearn\\base.py:464: UserWarning: X does not have valid feature names, but LinearRegression was fitted with feature names\n",
      "  warnings.warn(\n",
      "c:\\Python\\Python311\\Lib\\site-packages\\sklearn\\base.py:464: UserWarning: X does not have valid feature names, but StandardScaler was fitted with feature names\n",
      "  warnings.warn(\n"
     ]
    },
    {
     "name": "stdout",
     "output_type": "stream",
     "text": [
      "1/1 [==============================] - 0s 32ms/step\n"
     ]
    },
    {
     "name": "stderr",
     "output_type": "stream",
     "text": [
      "c:\\Python\\Python311\\Lib\\site-packages\\sklearn\\base.py:464: UserWarning: X does not have valid feature names, but LinearRegression was fitted with feature names\n",
      "  warnings.warn(\n",
      "c:\\Python\\Python311\\Lib\\site-packages\\sklearn\\base.py:464: UserWarning: X does not have valid feature names, but StandardScaler was fitted with feature names\n",
      "  warnings.warn(\n"
     ]
    },
    {
     "name": "stdout",
     "output_type": "stream",
     "text": [
      "1/1 [==============================] - 0s 32ms/step\n",
      "1/1 [==============================] - 0s 33ms/step\n"
     ]
    },
    {
     "name": "stderr",
     "output_type": "stream",
     "text": [
      "c:\\Python\\Python311\\Lib\\site-packages\\sklearn\\base.py:464: UserWarning: X does not have valid feature names, but LinearRegression was fitted with feature names\n",
      "  warnings.warn(\n",
      "c:\\Python\\Python311\\Lib\\site-packages\\sklearn\\base.py:464: UserWarning: X does not have valid feature names, but StandardScaler was fitted with feature names\n",
      "  warnings.warn(\n",
      "c:\\Python\\Python311\\Lib\\site-packages\\sklearn\\base.py:464: UserWarning: X does not have valid feature names, but LinearRegression was fitted with feature names\n",
      "  warnings.warn(\n",
      "c:\\Python\\Python311\\Lib\\site-packages\\sklearn\\base.py:464: UserWarning: X does not have valid feature names, but StandardScaler was fitted with feature names\n",
      "  warnings.warn(\n"
     ]
    },
    {
     "name": "stdout",
     "output_type": "stream",
     "text": [
      "1/1 [==============================] - 0s 34ms/step\n"
     ]
    },
    {
     "name": "stderr",
     "output_type": "stream",
     "text": [
      "c:\\Python\\Python311\\Lib\\site-packages\\sklearn\\base.py:464: UserWarning: X does not have valid feature names, but LinearRegression was fitted with feature names\n",
      "  warnings.warn(\n",
      "c:\\Python\\Python311\\Lib\\site-packages\\sklearn\\base.py:464: UserWarning: X does not have valid feature names, but StandardScaler was fitted with feature names\n",
      "  warnings.warn(\n"
     ]
    },
    {
     "name": "stdout",
     "output_type": "stream",
     "text": [
      "1/1 [==============================] - 0s 33ms/step\n",
      "1/1 [==============================] - ETA: 0s"
     ]
    },
    {
     "name": "stderr",
     "output_type": "stream",
     "text": [
      "c:\\Python\\Python311\\Lib\\site-packages\\sklearn\\base.py:464: UserWarning: X does not have valid feature names, but LinearRegression was fitted with feature names\n",
      "  warnings.warn(\n",
      "c:\\Python\\Python311\\Lib\\site-packages\\sklearn\\base.py:464: UserWarning: X does not have valid feature names, but StandardScaler was fitted with feature names\n",
      "  warnings.warn(\n"
     ]
    },
    {
     "name": "stdout",
     "output_type": "stream",
     "text": [
      "1/1 [==============================] - 0s 33ms/step\n",
      "1/1 [==============================] - ETA: 0s"
     ]
    },
    {
     "name": "stderr",
     "output_type": "stream",
     "text": [
      "c:\\Python\\Python311\\Lib\\site-packages\\sklearn\\base.py:464: UserWarning: X does not have valid feature names, but LinearRegression was fitted with feature names\n",
      "  warnings.warn(\n",
      "c:\\Python\\Python311\\Lib\\site-packages\\sklearn\\base.py:464: UserWarning: X does not have valid feature names, but StandardScaler was fitted with feature names\n",
      "  warnings.warn(\n"
     ]
    },
    {
     "name": "stdout",
     "output_type": "stream",
     "text": [
      "1/1 [==============================] - 0s 32ms/step\n",
      "1/1 [==============================] - ETA: 0s"
     ]
    },
    {
     "name": "stderr",
     "output_type": "stream",
     "text": [
      "c:\\Python\\Python311\\Lib\\site-packages\\sklearn\\base.py:464: UserWarning: X does not have valid feature names, but LinearRegression was fitted with feature names\n",
      "  warnings.warn(\n",
      "c:\\Python\\Python311\\Lib\\site-packages\\sklearn\\base.py:464: UserWarning: X does not have valid feature names, but StandardScaler was fitted with feature names\n",
      "  warnings.warn(\n"
     ]
    },
    {
     "name": "stdout",
     "output_type": "stream",
     "text": [
      "1/1 [==============================] - 0s 34ms/step\n",
      "1/1 [==============================] - ETA: 0s"
     ]
    },
    {
     "name": "stderr",
     "output_type": "stream",
     "text": [
      "c:\\Python\\Python311\\Lib\\site-packages\\sklearn\\base.py:464: UserWarning: X does not have valid feature names, but LinearRegression was fitted with feature names\n",
      "  warnings.warn(\n",
      "c:\\Python\\Python311\\Lib\\site-packages\\sklearn\\base.py:464: UserWarning: X does not have valid feature names, but StandardScaler was fitted with feature names\n",
      "  warnings.warn(\n"
     ]
    },
    {
     "name": "stdout",
     "output_type": "stream",
     "text": [
      "1/1 [==============================] - 0s 32ms/step\n",
      "1/1 [==============================] - ETA: 0s"
     ]
    },
    {
     "name": "stderr",
     "output_type": "stream",
     "text": [
      "c:\\Python\\Python311\\Lib\\site-packages\\sklearn\\base.py:464: UserWarning: X does not have valid feature names, but LinearRegression was fitted with feature names\n",
      "  warnings.warn(\n",
      "c:\\Python\\Python311\\Lib\\site-packages\\sklearn\\base.py:464: UserWarning: X does not have valid feature names, but StandardScaler was fitted with feature names\n",
      "  warnings.warn(\n"
     ]
    },
    {
     "name": "stdout",
     "output_type": "stream",
     "text": [
      "1/1 [==============================] - 0s 34ms/step\n",
      "1/1 [==============================] - 0s 32ms/step\n"
     ]
    },
    {
     "name": "stderr",
     "output_type": "stream",
     "text": [
      "c:\\Python\\Python311\\Lib\\site-packages\\sklearn\\base.py:464: UserWarning: X does not have valid feature names, but LinearRegression was fitted with feature names\n",
      "  warnings.warn(\n",
      "c:\\Python\\Python311\\Lib\\site-packages\\sklearn\\base.py:464: UserWarning: X does not have valid feature names, but StandardScaler was fitted with feature names\n",
      "  warnings.warn(\n",
      "c:\\Python\\Python311\\Lib\\site-packages\\sklearn\\base.py:464: UserWarning: X does not have valid feature names, but LinearRegression was fitted with feature names\n",
      "  warnings.warn(\n",
      "c:\\Python\\Python311\\Lib\\site-packages\\sklearn\\base.py:464: UserWarning: X does not have valid feature names, but StandardScaler was fitted with feature names\n",
      "  warnings.warn(\n"
     ]
    },
    {
     "name": "stdout",
     "output_type": "stream",
     "text": [
      "1/1 [==============================] - 0s 32ms/step\n"
     ]
    },
    {
     "name": "stderr",
     "output_type": "stream",
     "text": [
      "c:\\Python\\Python311\\Lib\\site-packages\\sklearn\\base.py:464: UserWarning: X does not have valid feature names, but LinearRegression was fitted with feature names\n",
      "  warnings.warn(\n",
      "c:\\Python\\Python311\\Lib\\site-packages\\sklearn\\base.py:464: UserWarning: X does not have valid feature names, but StandardScaler was fitted with feature names\n",
      "  warnings.warn(\n"
     ]
    },
    {
     "name": "stdout",
     "output_type": "stream",
     "text": [
      "1/1 [==============================] - 0s 37ms/step\n",
      "1/1 [==============================] - ETA: 0s"
     ]
    },
    {
     "name": "stderr",
     "output_type": "stream",
     "text": [
      "c:\\Python\\Python311\\Lib\\site-packages\\sklearn\\base.py:464: UserWarning: X does not have valid feature names, but LinearRegression was fitted with feature names\n",
      "  warnings.warn(\n",
      "c:\\Python\\Python311\\Lib\\site-packages\\sklearn\\base.py:464: UserWarning: X does not have valid feature names, but StandardScaler was fitted with feature names\n",
      "  warnings.warn(\n"
     ]
    },
    {
     "name": "stdout",
     "output_type": "stream",
     "text": [
      "1/1 [==============================] - 0s 35ms/step\n",
      "1/1 [==============================] - ETA: 0s"
     ]
    },
    {
     "name": "stderr",
     "output_type": "stream",
     "text": [
      "c:\\Python\\Python311\\Lib\\site-packages\\sklearn\\base.py:464: UserWarning: X does not have valid feature names, but LinearRegression was fitted with feature names\n",
      "  warnings.warn(\n",
      "c:\\Python\\Python311\\Lib\\site-packages\\sklearn\\base.py:464: UserWarning: X does not have valid feature names, but StandardScaler was fitted with feature names\n",
      "  warnings.warn(\n"
     ]
    },
    {
     "name": "stdout",
     "output_type": "stream",
     "text": [
      "1/1 [==============================] - 0s 34ms/step\n",
      "1/1 [==============================] - ETA: 0s"
     ]
    },
    {
     "name": "stderr",
     "output_type": "stream",
     "text": [
      "c:\\Python\\Python311\\Lib\\site-packages\\sklearn\\base.py:464: UserWarning: X does not have valid feature names, but LinearRegression was fitted with feature names\n",
      "  warnings.warn(\n",
      "c:\\Python\\Python311\\Lib\\site-packages\\sklearn\\base.py:464: UserWarning: X does not have valid feature names, but StandardScaler was fitted with feature names\n",
      "  warnings.warn(\n"
     ]
    },
    {
     "name": "stdout",
     "output_type": "stream",
     "text": [
      "1/1 [==============================] - 0s 34ms/step\n",
      "1/1 [==============================] - ETA: 0s"
     ]
    },
    {
     "name": "stderr",
     "output_type": "stream",
     "text": [
      "c:\\Python\\Python311\\Lib\\site-packages\\sklearn\\base.py:464: UserWarning: X does not have valid feature names, but LinearRegression was fitted with feature names\n",
      "  warnings.warn(\n",
      "c:\\Python\\Python311\\Lib\\site-packages\\sklearn\\base.py:464: UserWarning: X does not have valid feature names, but StandardScaler was fitted with feature names\n",
      "  warnings.warn(\n"
     ]
    },
    {
     "name": "stdout",
     "output_type": "stream",
     "text": [
      "1/1 [==============================] - 0s 34ms/step\n",
      "1/1 [==============================] - ETA: 0s"
     ]
    },
    {
     "name": "stderr",
     "output_type": "stream",
     "text": [
      "c:\\Python\\Python311\\Lib\\site-packages\\sklearn\\base.py:464: UserWarning: X does not have valid feature names, but LinearRegression was fitted with feature names\n",
      "  warnings.warn(\n",
      "c:\\Python\\Python311\\Lib\\site-packages\\sklearn\\base.py:464: UserWarning: X does not have valid feature names, but StandardScaler was fitted with feature names\n",
      "  warnings.warn(\n"
     ]
    },
    {
     "name": "stdout",
     "output_type": "stream",
     "text": [
      "1/1 [==============================] - 0s 35ms/step\n",
      "1/1 [==============================] - ETA: 0s"
     ]
    },
    {
     "name": "stderr",
     "output_type": "stream",
     "text": [
      "c:\\Python\\Python311\\Lib\\site-packages\\sklearn\\base.py:464: UserWarning: X does not have valid feature names, but LinearRegression was fitted with feature names\n",
      "  warnings.warn(\n",
      "c:\\Python\\Python311\\Lib\\site-packages\\sklearn\\base.py:464: UserWarning: X does not have valid feature names, but StandardScaler was fitted with feature names\n",
      "  warnings.warn(\n"
     ]
    },
    {
     "name": "stdout",
     "output_type": "stream",
     "text": [
      "1/1 [==============================] - 0s 34ms/step\n",
      "1/1 [==============================] - ETA: 0s"
     ]
    },
    {
     "name": "stderr",
     "output_type": "stream",
     "text": [
      "c:\\Python\\Python311\\Lib\\site-packages\\sklearn\\base.py:464: UserWarning: X does not have valid feature names, but LinearRegression was fitted with feature names\n",
      "  warnings.warn(\n",
      "c:\\Python\\Python311\\Lib\\site-packages\\sklearn\\base.py:464: UserWarning: X does not have valid feature names, but StandardScaler was fitted with feature names\n",
      "  warnings.warn(\n"
     ]
    },
    {
     "name": "stdout",
     "output_type": "stream",
     "text": [
      "1/1 [==============================] - 0s 31ms/step\n",
      "1/1 [==============================] - 0s 32ms/step\n"
     ]
    },
    {
     "name": "stderr",
     "output_type": "stream",
     "text": [
      "c:\\Python\\Python311\\Lib\\site-packages\\sklearn\\base.py:464: UserWarning: X does not have valid feature names, but LinearRegression was fitted with feature names\n",
      "  warnings.warn(\n",
      "c:\\Python\\Python311\\Lib\\site-packages\\sklearn\\base.py:464: UserWarning: X does not have valid feature names, but StandardScaler was fitted with feature names\n",
      "  warnings.warn(\n",
      "c:\\Python\\Python311\\Lib\\site-packages\\sklearn\\base.py:464: UserWarning: X does not have valid feature names, but LinearRegression was fitted with feature names\n",
      "  warnings.warn(\n",
      "c:\\Python\\Python311\\Lib\\site-packages\\sklearn\\base.py:464: UserWarning: X does not have valid feature names, but StandardScaler was fitted with feature names\n",
      "  warnings.warn(\n"
     ]
    },
    {
     "name": "stdout",
     "output_type": "stream",
     "text": [
      "1/1 [==============================] - 0s 34ms/step\n",
      "1/1 [==============================] - 0s 35ms/step\n",
      "1/1 [==============================] - 0s 35ms/step\n"
     ]
    },
    {
     "name": "stderr",
     "output_type": "stream",
     "text": [
      "c:\\Python\\Python311\\Lib\\site-packages\\sklearn\\base.py:464: UserWarning: X does not have valid feature names, but LinearRegression was fitted with feature names\n",
      "  warnings.warn(\n",
      "c:\\Python\\Python311\\Lib\\site-packages\\sklearn\\base.py:464: UserWarning: X does not have valid feature names, but StandardScaler was fitted with feature names\n",
      "  warnings.warn(\n",
      "c:\\Python\\Python311\\Lib\\site-packages\\sklearn\\base.py:464: UserWarning: X does not have valid feature names, but LinearRegression was fitted with feature names\n",
      "  warnings.warn(\n",
      "c:\\Python\\Python311\\Lib\\site-packages\\sklearn\\base.py:464: UserWarning: X does not have valid feature names, but StandardScaler was fitted with feature names\n",
      "  warnings.warn(\n"
     ]
    },
    {
     "name": "stdout",
     "output_type": "stream",
     "text": [
      "1/1 [==============================] - 0s 36ms/step\n"
     ]
    },
    {
     "name": "stderr",
     "output_type": "stream",
     "text": [
      "c:\\Python\\Python311\\Lib\\site-packages\\sklearn\\base.py:464: UserWarning: X does not have valid feature names, but LinearRegression was fitted with feature names\n",
      "  warnings.warn(\n",
      "c:\\Python\\Python311\\Lib\\site-packages\\sklearn\\base.py:464: UserWarning: X does not have valid feature names, but StandardScaler was fitted with feature names\n",
      "  warnings.warn(\n",
      "c:\\Python\\Python311\\Lib\\site-packages\\sklearn\\base.py:464: UserWarning: X does not have valid feature names, but LinearRegression was fitted with feature names\n",
      "  warnings.warn(\n",
      "c:\\Python\\Python311\\Lib\\site-packages\\sklearn\\base.py:464: UserWarning: X does not have valid feature names, but StandardScaler was fitted with feature names\n",
      "  warnings.warn(\n"
     ]
    },
    {
     "name": "stdout",
     "output_type": "stream",
     "text": [
      "1/1 [==============================] - 0s 34ms/step\n",
      "1/1 [==============================] - 0s 33ms/step\n"
     ]
    },
    {
     "name": "stderr",
     "output_type": "stream",
     "text": [
      "c:\\Python\\Python311\\Lib\\site-packages\\sklearn\\base.py:464: UserWarning: X does not have valid feature names, but LinearRegression was fitted with feature names\n",
      "  warnings.warn(\n",
      "c:\\Python\\Python311\\Lib\\site-packages\\sklearn\\base.py:464: UserWarning: X does not have valid feature names, but StandardScaler was fitted with feature names\n",
      "  warnings.warn(\n",
      "c:\\Python\\Python311\\Lib\\site-packages\\sklearn\\base.py:464: UserWarning: X does not have valid feature names, but LinearRegression was fitted with feature names\n",
      "  warnings.warn(\n",
      "c:\\Python\\Python311\\Lib\\site-packages\\sklearn\\base.py:464: UserWarning: X does not have valid feature names, but StandardScaler was fitted with feature names\n",
      "  warnings.warn(\n"
     ]
    },
    {
     "name": "stdout",
     "output_type": "stream",
     "text": [
      "1/1 [==============================] - 0s 35ms/step\n",
      "1/1 [==============================] - 0s 31ms/step\n",
      "1/1 [==============================] - ETA: 0s"
     ]
    },
    {
     "name": "stderr",
     "output_type": "stream",
     "text": [
      "c:\\Python\\Python311\\Lib\\site-packages\\sklearn\\base.py:464: UserWarning: X does not have valid feature names, but LinearRegression was fitted with feature names\n",
      "  warnings.warn(\n",
      "c:\\Python\\Python311\\Lib\\site-packages\\sklearn\\base.py:464: UserWarning: X does not have valid feature names, but StandardScaler was fitted with feature names\n",
      "  warnings.warn(\n",
      "c:\\Python\\Python311\\Lib\\site-packages\\sklearn\\base.py:464: UserWarning: X does not have valid feature names, but LinearRegression was fitted with feature names\n",
      "  warnings.warn(\n",
      "c:\\Python\\Python311\\Lib\\site-packages\\sklearn\\base.py:464: UserWarning: X does not have valid feature names, but StandardScaler was fitted with feature names\n",
      "  warnings.warn(\n"
     ]
    },
    {
     "name": "stdout",
     "output_type": "stream",
     "text": [
      "1/1 [==============================] - 0s 34ms/step\n",
      "1/1 [==============================] - 0s 32ms/step\n",
      "1/1 [==============================] - 0s 33ms/step\n"
     ]
    },
    {
     "name": "stderr",
     "output_type": "stream",
     "text": [
      "c:\\Python\\Python311\\Lib\\site-packages\\sklearn\\base.py:464: UserWarning: X does not have valid feature names, but LinearRegression was fitted with feature names\n",
      "  warnings.warn(\n",
      "c:\\Python\\Python311\\Lib\\site-packages\\sklearn\\base.py:464: UserWarning: X does not have valid feature names, but StandardScaler was fitted with feature names\n",
      "  warnings.warn(\n",
      "c:\\Python\\Python311\\Lib\\site-packages\\sklearn\\base.py:464: UserWarning: X does not have valid feature names, but LinearRegression was fitted with feature names\n",
      "  warnings.warn(\n",
      "c:\\Python\\Python311\\Lib\\site-packages\\sklearn\\base.py:464: UserWarning: X does not have valid feature names, but StandardScaler was fitted with feature names\n",
      "  warnings.warn(\n"
     ]
    },
    {
     "name": "stdout",
     "output_type": "stream",
     "text": [
      "1/1 [==============================] - 0s 33ms/step\n",
      "1/1 [==============================] - ETA: 0s"
     ]
    },
    {
     "name": "stderr",
     "output_type": "stream",
     "text": [
      "c:\\Python\\Python311\\Lib\\site-packages\\sklearn\\base.py:464: UserWarning: X does not have valid feature names, but LinearRegression was fitted with feature names\n",
      "  warnings.warn(\n",
      "c:\\Python\\Python311\\Lib\\site-packages\\sklearn\\base.py:464: UserWarning: X does not have valid feature names, but StandardScaler was fitted with feature names\n",
      "  warnings.warn(\n",
      "c:\\Python\\Python311\\Lib\\site-packages\\sklearn\\base.py:464: UserWarning: X does not have valid feature names, but LinearRegression was fitted with feature names\n",
      "  warnings.warn(\n",
      "c:\\Python\\Python311\\Lib\\site-packages\\sklearn\\base.py:464: UserWarning: X does not have valid feature names, but StandardScaler was fitted with feature names\n",
      "  warnings.warn(\n"
     ]
    },
    {
     "name": "stdout",
     "output_type": "stream",
     "text": [
      "1/1 [==============================] - 0s 37ms/step\n",
      "1/1 [==============================] - 0s 34ms/step\n",
      "1/1 [==============================] - ETA: 0s"
     ]
    },
    {
     "name": "stderr",
     "output_type": "stream",
     "text": [
      "c:\\Python\\Python311\\Lib\\site-packages\\sklearn\\base.py:464: UserWarning: X does not have valid feature names, but LinearRegression was fitted with feature names\n",
      "  warnings.warn(\n",
      "c:\\Python\\Python311\\Lib\\site-packages\\sklearn\\base.py:464: UserWarning: X does not have valid feature names, but StandardScaler was fitted with feature names\n",
      "  warnings.warn(\n",
      "c:\\Python\\Python311\\Lib\\site-packages\\sklearn\\base.py:464: UserWarning: X does not have valid feature names, but LinearRegression was fitted with feature names\n",
      "  warnings.warn(\n",
      "c:\\Python\\Python311\\Lib\\site-packages\\sklearn\\base.py:464: UserWarning: X does not have valid feature names, but StandardScaler was fitted with feature names\n",
      "  warnings.warn(\n"
     ]
    },
    {
     "name": "stdout",
     "output_type": "stream",
     "text": [
      "1/1 [==============================] - 0s 40ms/step\n",
      "1/1 [==============================] - 0s 32ms/step\n",
      "1/1 [==============================] - 0s 34ms/step\n"
     ]
    },
    {
     "name": "stderr",
     "output_type": "stream",
     "text": [
      "c:\\Python\\Python311\\Lib\\site-packages\\sklearn\\base.py:464: UserWarning: X does not have valid feature names, but LinearRegression was fitted with feature names\n",
      "  warnings.warn(\n",
      "c:\\Python\\Python311\\Lib\\site-packages\\sklearn\\base.py:464: UserWarning: X does not have valid feature names, but StandardScaler was fitted with feature names\n",
      "  warnings.warn(\n",
      "c:\\Python\\Python311\\Lib\\site-packages\\sklearn\\base.py:464: UserWarning: X does not have valid feature names, but LinearRegression was fitted with feature names\n",
      "  warnings.warn(\n",
      "c:\\Python\\Python311\\Lib\\site-packages\\sklearn\\base.py:464: UserWarning: X does not have valid feature names, but StandardScaler was fitted with feature names\n",
      "  warnings.warn(\n"
     ]
    },
    {
     "name": "stdout",
     "output_type": "stream",
     "text": [
      "1/1 [==============================] - 0s 31ms/step\n"
     ]
    },
    {
     "name": "stderr",
     "output_type": "stream",
     "text": [
      "c:\\Python\\Python311\\Lib\\site-packages\\sklearn\\base.py:464: UserWarning: X does not have valid feature names, but LinearRegression was fitted with feature names\n",
      "  warnings.warn(\n",
      "c:\\Python\\Python311\\Lib\\site-packages\\sklearn\\base.py:464: UserWarning: X does not have valid feature names, but StandardScaler was fitted with feature names\n",
      "  warnings.warn(\n",
      "c:\\Python\\Python311\\Lib\\site-packages\\sklearn\\base.py:464: UserWarning: X does not have valid feature names, but LinearRegression was fitted with feature names\n",
      "  warnings.warn(\n",
      "c:\\Python\\Python311\\Lib\\site-packages\\sklearn\\base.py:464: UserWarning: X does not have valid feature names, but StandardScaler was fitted with feature names\n",
      "  warnings.warn(\n"
     ]
    },
    {
     "name": "stdout",
     "output_type": "stream",
     "text": [
      "1/1 [==============================] - 0s 35ms/step\n",
      "1/1 [==============================] - 0s 31ms/step\n",
      "1/1 [==============================] - 0s 31ms/step\n"
     ]
    },
    {
     "name": "stderr",
     "output_type": "stream",
     "text": [
      "c:\\Python\\Python311\\Lib\\site-packages\\sklearn\\base.py:464: UserWarning: X does not have valid feature names, but LinearRegression was fitted with feature names\n",
      "  warnings.warn(\n",
      "c:\\Python\\Python311\\Lib\\site-packages\\sklearn\\base.py:464: UserWarning: X does not have valid feature names, but StandardScaler was fitted with feature names\n",
      "  warnings.warn(\n",
      "c:\\Python\\Python311\\Lib\\site-packages\\sklearn\\base.py:464: UserWarning: X does not have valid feature names, but LinearRegression was fitted with feature names\n",
      "  warnings.warn(\n",
      "c:\\Python\\Python311\\Lib\\site-packages\\sklearn\\base.py:464: UserWarning: X does not have valid feature names, but StandardScaler was fitted with feature names\n",
      "  warnings.warn(\n",
      "c:\\Python\\Python311\\Lib\\site-packages\\sklearn\\base.py:464: UserWarning: X does not have valid feature names, but LinearRegression was fitted with feature names\n",
      "  warnings.warn(\n",
      "c:\\Python\\Python311\\Lib\\site-packages\\sklearn\\base.py:464: UserWarning: X does not have valid feature names, but StandardScaler was fitted with feature names\n",
      "  warnings.warn(\n"
     ]
    },
    {
     "name": "stdout",
     "output_type": "stream",
     "text": [
      "1/1 [==============================] - 0s 33ms/step\n",
      "1/1 [==============================] - 0s 36ms/step\n",
      "1/1 [==============================] - 0s 34ms/step\n"
     ]
    },
    {
     "name": "stderr",
     "output_type": "stream",
     "text": [
      "c:\\Python\\Python311\\Lib\\site-packages\\sklearn\\base.py:464: UserWarning: X does not have valid feature names, but LinearRegression was fitted with feature names\n",
      "  warnings.warn(\n",
      "c:\\Python\\Python311\\Lib\\site-packages\\sklearn\\base.py:464: UserWarning: X does not have valid feature names, but StandardScaler was fitted with feature names\n",
      "  warnings.warn(\n",
      "c:\\Python\\Python311\\Lib\\site-packages\\sklearn\\base.py:464: UserWarning: X does not have valid feature names, but LinearRegression was fitted with feature names\n",
      "  warnings.warn(\n",
      "c:\\Python\\Python311\\Lib\\site-packages\\sklearn\\base.py:464: UserWarning: X does not have valid feature names, but StandardScaler was fitted with feature names\n",
      "  warnings.warn(\n"
     ]
    },
    {
     "name": "stdout",
     "output_type": "stream",
     "text": [
      "1/1 [==============================] - 0s 32ms/step\n",
      "1/1 [==============================] - ETA: 0s"
     ]
    },
    {
     "name": "stderr",
     "output_type": "stream",
     "text": [
      "c:\\Python\\Python311\\Lib\\site-packages\\sklearn\\base.py:464: UserWarning: X does not have valid feature names, but LinearRegression was fitted with feature names\n",
      "  warnings.warn(\n",
      "c:\\Python\\Python311\\Lib\\site-packages\\sklearn\\base.py:464: UserWarning: X does not have valid feature names, but StandardScaler was fitted with feature names\n",
      "  warnings.warn(\n",
      "c:\\Python\\Python311\\Lib\\site-packages\\sklearn\\base.py:464: UserWarning: X does not have valid feature names, but LinearRegression was fitted with feature names\n",
      "  warnings.warn(\n",
      "c:\\Python\\Python311\\Lib\\site-packages\\sklearn\\base.py:464: UserWarning: X does not have valid feature names, but StandardScaler was fitted with feature names\n",
      "  warnings.warn(\n"
     ]
    },
    {
     "name": "stdout",
     "output_type": "stream",
     "text": [
      "1/1 [==============================] - 0s 34ms/step\n",
      "1/1 [==============================] - 0s 33ms/step\n",
      "1/1 [==============================] - ETA: 0s"
     ]
    },
    {
     "name": "stderr",
     "output_type": "stream",
     "text": [
      "c:\\Python\\Python311\\Lib\\site-packages\\sklearn\\base.py:464: UserWarning: X does not have valid feature names, but LinearRegression was fitted with feature names\n",
      "  warnings.warn(\n",
      "c:\\Python\\Python311\\Lib\\site-packages\\sklearn\\base.py:464: UserWarning: X does not have valid feature names, but StandardScaler was fitted with feature names\n",
      "  warnings.warn(\n",
      "c:\\Python\\Python311\\Lib\\site-packages\\sklearn\\base.py:464: UserWarning: X does not have valid feature names, but LinearRegression was fitted with feature names\n",
      "  warnings.warn(\n",
      "c:\\Python\\Python311\\Lib\\site-packages\\sklearn\\base.py:464: UserWarning: X does not have valid feature names, but StandardScaler was fitted with feature names\n",
      "  warnings.warn(\n"
     ]
    },
    {
     "name": "stdout",
     "output_type": "stream",
     "text": [
      "1/1 [==============================] - 0s 32ms/step\n",
      "1/1 [==============================] - 0s 35ms/step\n",
      "1/1 [==============================] - ETA: 0s"
     ]
    },
    {
     "name": "stderr",
     "output_type": "stream",
     "text": [
      "c:\\Python\\Python311\\Lib\\site-packages\\sklearn\\base.py:464: UserWarning: X does not have valid feature names, but LinearRegression was fitted with feature names\n",
      "  warnings.warn(\n",
      "c:\\Python\\Python311\\Lib\\site-packages\\sklearn\\base.py:464: UserWarning: X does not have valid feature names, but StandardScaler was fitted with feature names\n",
      "  warnings.warn(\n",
      "c:\\Python\\Python311\\Lib\\site-packages\\sklearn\\base.py:464: UserWarning: X does not have valid feature names, but LinearRegression was fitted with feature names\n",
      "  warnings.warn(\n",
      "c:\\Python\\Python311\\Lib\\site-packages\\sklearn\\base.py:464: UserWarning: X does not have valid feature names, but StandardScaler was fitted with feature names\n",
      "  warnings.warn(\n"
     ]
    },
    {
     "name": "stdout",
     "output_type": "stream",
     "text": [
      "1/1 [==============================] - 0s 36ms/step\n",
      "1/1 [==============================] - 0s 33ms/step\n",
      "1/1 [==============================] - ETA: 0s"
     ]
    },
    {
     "name": "stderr",
     "output_type": "stream",
     "text": [
      "c:\\Python\\Python311\\Lib\\site-packages\\sklearn\\base.py:464: UserWarning: X does not have valid feature names, but LinearRegression was fitted with feature names\n",
      "  warnings.warn(\n",
      "c:\\Python\\Python311\\Lib\\site-packages\\sklearn\\base.py:464: UserWarning: X does not have valid feature names, but StandardScaler was fitted with feature names\n",
      "  warnings.warn(\n",
      "c:\\Python\\Python311\\Lib\\site-packages\\sklearn\\base.py:464: UserWarning: X does not have valid feature names, but LinearRegression was fitted with feature names\n",
      "  warnings.warn(\n",
      "c:\\Python\\Python311\\Lib\\site-packages\\sklearn\\base.py:464: UserWarning: X does not have valid feature names, but StandardScaler was fitted with feature names\n",
      "  warnings.warn(\n"
     ]
    },
    {
     "name": "stdout",
     "output_type": "stream",
     "text": [
      "1/1 [==============================] - 0s 33ms/step\n",
      "1/1 [==============================] - 0s 31ms/step\n",
      "1/1 [==============================] - 0s 32ms/step\n"
     ]
    },
    {
     "name": "stderr",
     "output_type": "stream",
     "text": [
      "c:\\Python\\Python311\\Lib\\site-packages\\sklearn\\base.py:464: UserWarning: X does not have valid feature names, but LinearRegression was fitted with feature names\n",
      "  warnings.warn(\n",
      "c:\\Python\\Python311\\Lib\\site-packages\\sklearn\\base.py:464: UserWarning: X does not have valid feature names, but StandardScaler was fitted with feature names\n",
      "  warnings.warn(\n",
      "c:\\Python\\Python311\\Lib\\site-packages\\sklearn\\base.py:464: UserWarning: X does not have valid feature names, but LinearRegression was fitted with feature names\n",
      "  warnings.warn(\n",
      "c:\\Python\\Python311\\Lib\\site-packages\\sklearn\\base.py:464: UserWarning: X does not have valid feature names, but StandardScaler was fitted with feature names\n",
      "  warnings.warn(\n",
      "c:\\Python\\Python311\\Lib\\site-packages\\sklearn\\base.py:464: UserWarning: X does not have valid feature names, but LinearRegression was fitted with feature names\n",
      "  warnings.warn(\n",
      "c:\\Python\\Python311\\Lib\\site-packages\\sklearn\\base.py:464: UserWarning: X does not have valid feature names, but StandardScaler was fitted with feature names\n",
      "  warnings.warn(\n"
     ]
    },
    {
     "name": "stdout",
     "output_type": "stream",
     "text": [
      "1/1 [==============================] - 0s 30ms/step\n",
      "1/1 [==============================] - 0s 31ms/step\n",
      "1/1 [==============================] - 0s 31ms/step\n"
     ]
    },
    {
     "name": "stderr",
     "output_type": "stream",
     "text": [
      "c:\\Python\\Python311\\Lib\\site-packages\\sklearn\\base.py:464: UserWarning: X does not have valid feature names, but LinearRegression was fitted with feature names\n",
      "  warnings.warn(\n",
      "c:\\Python\\Python311\\Lib\\site-packages\\sklearn\\base.py:464: UserWarning: X does not have valid feature names, but StandardScaler was fitted with feature names\n",
      "  warnings.warn(\n",
      "c:\\Python\\Python311\\Lib\\site-packages\\sklearn\\base.py:464: UserWarning: X does not have valid feature names, but LinearRegression was fitted with feature names\n",
      "  warnings.warn(\n",
      "c:\\Python\\Python311\\Lib\\site-packages\\sklearn\\base.py:464: UserWarning: X does not have valid feature names, but StandardScaler was fitted with feature names\n",
      "  warnings.warn(\n",
      "c:\\Python\\Python311\\Lib\\site-packages\\sklearn\\base.py:464: UserWarning: X does not have valid feature names, but LinearRegression was fitted with feature names\n",
      "  warnings.warn(\n",
      "c:\\Python\\Python311\\Lib\\site-packages\\sklearn\\base.py:464: UserWarning: X does not have valid feature names, but StandardScaler was fitted with feature names\n",
      "  warnings.warn(\n"
     ]
    },
    {
     "name": "stdout",
     "output_type": "stream",
     "text": [
      "1/1 [==============================] - 0s 34ms/step\n",
      "1/1 [==============================] - 0s 34ms/step\n",
      "1/1 [==============================] - 0s 33ms/step\n"
     ]
    },
    {
     "name": "stderr",
     "output_type": "stream",
     "text": [
      "c:\\Python\\Python311\\Lib\\site-packages\\sklearn\\base.py:464: UserWarning: X does not have valid feature names, but LinearRegression was fitted with feature names\n",
      "  warnings.warn(\n",
      "c:\\Python\\Python311\\Lib\\site-packages\\sklearn\\base.py:464: UserWarning: X does not have valid feature names, but StandardScaler was fitted with feature names\n",
      "  warnings.warn(\n",
      "c:\\Python\\Python311\\Lib\\site-packages\\sklearn\\base.py:464: UserWarning: X does not have valid feature names, but LinearRegression was fitted with feature names\n",
      "  warnings.warn(\n",
      "c:\\Python\\Python311\\Lib\\site-packages\\sklearn\\base.py:464: UserWarning: X does not have valid feature names, but StandardScaler was fitted with feature names\n",
      "  warnings.warn(\n"
     ]
    },
    {
     "name": "stdout",
     "output_type": "stream",
     "text": [
      "1/1 [==============================] - 0s 32ms/step\n",
      "1/1 [==============================] - ETA: 0s"
     ]
    },
    {
     "name": "stderr",
     "output_type": "stream",
     "text": [
      "c:\\Python\\Python311\\Lib\\site-packages\\sklearn\\base.py:464: UserWarning: X does not have valid feature names, but LinearRegression was fitted with feature names\n",
      "  warnings.warn(\n",
      "c:\\Python\\Python311\\Lib\\site-packages\\sklearn\\base.py:464: UserWarning: X does not have valid feature names, but StandardScaler was fitted with feature names\n",
      "  warnings.warn(\n",
      "c:\\Python\\Python311\\Lib\\site-packages\\sklearn\\base.py:464: UserWarning: X does not have valid feature names, but LinearRegression was fitted with feature names\n",
      "  warnings.warn(\n",
      "c:\\Python\\Python311\\Lib\\site-packages\\sklearn\\base.py:464: UserWarning: X does not have valid feature names, but StandardScaler was fitted with feature names\n",
      "  warnings.warn(\n"
     ]
    },
    {
     "name": "stdout",
     "output_type": "stream",
     "text": [
      "1/1 [==============================] - 0s 30ms/step\n",
      "1/1 [==============================] - 0s 34ms/step\n",
      "1/1 [==============================] - ETA: 0s"
     ]
    },
    {
     "name": "stderr",
     "output_type": "stream",
     "text": [
      "c:\\Python\\Python311\\Lib\\site-packages\\sklearn\\base.py:464: UserWarning: X does not have valid feature names, but LinearRegression was fitted with feature names\n",
      "  warnings.warn(\n",
      "c:\\Python\\Python311\\Lib\\site-packages\\sklearn\\base.py:464: UserWarning: X does not have valid feature names, but StandardScaler was fitted with feature names\n",
      "  warnings.warn(\n",
      "c:\\Python\\Python311\\Lib\\site-packages\\sklearn\\base.py:464: UserWarning: X does not have valid feature names, but LinearRegression was fitted with feature names\n",
      "  warnings.warn(\n",
      "c:\\Python\\Python311\\Lib\\site-packages\\sklearn\\base.py:464: UserWarning: X does not have valid feature names, but StandardScaler was fitted with feature names\n",
      "  warnings.warn(\n"
     ]
    },
    {
     "name": "stdout",
     "output_type": "stream",
     "text": [
      "1/1 [==============================] - 0s 29ms/step\n",
      "1/1 [==============================] - 0s 33ms/step\n",
      "1/1 [==============================] - ETA: 0s"
     ]
    },
    {
     "name": "stderr",
     "output_type": "stream",
     "text": [
      "c:\\Python\\Python311\\Lib\\site-packages\\sklearn\\base.py:464: UserWarning: X does not have valid feature names, but LinearRegression was fitted with feature names\n",
      "  warnings.warn(\n",
      "c:\\Python\\Python311\\Lib\\site-packages\\sklearn\\base.py:464: UserWarning: X does not have valid feature names, but StandardScaler was fitted with feature names\n",
      "  warnings.warn(\n",
      "c:\\Python\\Python311\\Lib\\site-packages\\sklearn\\base.py:464: UserWarning: X does not have valid feature names, but LinearRegression was fitted with feature names\n",
      "  warnings.warn(\n",
      "c:\\Python\\Python311\\Lib\\site-packages\\sklearn\\base.py:464: UserWarning: X does not have valid feature names, but StandardScaler was fitted with feature names\n",
      "  warnings.warn(\n"
     ]
    },
    {
     "name": "stdout",
     "output_type": "stream",
     "text": [
      "1/1 [==============================] - 0s 34ms/step\n",
      "1/1 [==============================] - 0s 32ms/step\n",
      "1/1 [==============================] - ETA: 0s"
     ]
    },
    {
     "name": "stderr",
     "output_type": "stream",
     "text": [
      "c:\\Python\\Python311\\Lib\\site-packages\\sklearn\\base.py:464: UserWarning: X does not have valid feature names, but LinearRegression was fitted with feature names\n",
      "  warnings.warn(\n",
      "c:\\Python\\Python311\\Lib\\site-packages\\sklearn\\base.py:464: UserWarning: X does not have valid feature names, but StandardScaler was fitted with feature names\n",
      "  warnings.warn(\n",
      "c:\\Python\\Python311\\Lib\\site-packages\\sklearn\\base.py:464: UserWarning: X does not have valid feature names, but LinearRegression was fitted with feature names\n",
      "  warnings.warn(\n",
      "c:\\Python\\Python311\\Lib\\site-packages\\sklearn\\base.py:464: UserWarning: X does not have valid feature names, but StandardScaler was fitted with feature names\n",
      "  warnings.warn(\n"
     ]
    },
    {
     "name": "stdout",
     "output_type": "stream",
     "text": [
      "1/1 [==============================] - 0s 32ms/step\n",
      "1/1 [==============================] - 0s 32ms/step\n"
     ]
    },
    {
     "name": "stderr",
     "output_type": "stream",
     "text": [
      "c:\\Python\\Python311\\Lib\\site-packages\\sklearn\\base.py:464: UserWarning: X does not have valid feature names, but LinearRegression was fitted with feature names\n",
      "  warnings.warn(\n",
      "c:\\Python\\Python311\\Lib\\site-packages\\sklearn\\base.py:464: UserWarning: X does not have valid feature names, but StandardScaler was fitted with feature names\n",
      "  warnings.warn(\n",
      "c:\\Python\\Python311\\Lib\\site-packages\\sklearn\\base.py:464: UserWarning: X does not have valid feature names, but LinearRegression was fitted with feature names\n",
      "  warnings.warn(\n",
      "c:\\Python\\Python311\\Lib\\site-packages\\sklearn\\base.py:464: UserWarning: X does not have valid feature names, but StandardScaler was fitted with feature names\n",
      "  warnings.warn(\n"
     ]
    },
    {
     "name": "stdout",
     "output_type": "stream",
     "text": [
      "1/1 [==============================] - 0s 37ms/step\n",
      "1/1 [==============================] - 0s 33ms/step\n",
      "1/1 [==============================] - ETA: 0s"
     ]
    },
    {
     "name": "stderr",
     "output_type": "stream",
     "text": [
      "c:\\Python\\Python311\\Lib\\site-packages\\sklearn\\base.py:464: UserWarning: X does not have valid feature names, but LinearRegression was fitted with feature names\n",
      "  warnings.warn(\n",
      "c:\\Python\\Python311\\Lib\\site-packages\\sklearn\\base.py:464: UserWarning: X does not have valid feature names, but StandardScaler was fitted with feature names\n",
      "  warnings.warn(\n",
      "c:\\Python\\Python311\\Lib\\site-packages\\sklearn\\base.py:464: UserWarning: X does not have valid feature names, but LinearRegression was fitted with feature names\n",
      "  warnings.warn(\n",
      "c:\\Python\\Python311\\Lib\\site-packages\\sklearn\\base.py:464: UserWarning: X does not have valid feature names, but StandardScaler was fitted with feature names\n",
      "  warnings.warn(\n"
     ]
    },
    {
     "name": "stdout",
     "output_type": "stream",
     "text": [
      "1/1 [==============================] - 0s 32ms/step\n",
      "1/1 [==============================] - 0s 33ms/step\n",
      "1/1 [==============================] - 0s 33ms/step\n"
     ]
    },
    {
     "name": "stderr",
     "output_type": "stream",
     "text": [
      "c:\\Python\\Python311\\Lib\\site-packages\\sklearn\\base.py:464: UserWarning: X does not have valid feature names, but LinearRegression was fitted with feature names\n",
      "  warnings.warn(\n",
      "c:\\Python\\Python311\\Lib\\site-packages\\sklearn\\base.py:464: UserWarning: X does not have valid feature names, but StandardScaler was fitted with feature names\n",
      "  warnings.warn(\n",
      "c:\\Python\\Python311\\Lib\\site-packages\\sklearn\\base.py:464: UserWarning: X does not have valid feature names, but LinearRegression was fitted with feature names\n",
      "  warnings.warn(\n",
      "c:\\Python\\Python311\\Lib\\site-packages\\sklearn\\base.py:464: UserWarning: X does not have valid feature names, but StandardScaler was fitted with feature names\n",
      "  warnings.warn(\n",
      "c:\\Python\\Python311\\Lib\\site-packages\\sklearn\\base.py:464: UserWarning: X does not have valid feature names, but LinearRegression was fitted with feature names\n",
      "  warnings.warn(\n",
      "c:\\Python\\Python311\\Lib\\site-packages\\sklearn\\base.py:464: UserWarning: X does not have valid feature names, but StandardScaler was fitted with feature names\n",
      "  warnings.warn(\n"
     ]
    },
    {
     "name": "stdout",
     "output_type": "stream",
     "text": [
      "1/1 [==============================] - 0s 33ms/step\n",
      "1/1 [==============================] - 0s 31ms/step\n",
      "1/1 [==============================] - ETA: 0s"
     ]
    },
    {
     "name": "stderr",
     "output_type": "stream",
     "text": [
      "c:\\Python\\Python311\\Lib\\site-packages\\sklearn\\base.py:464: UserWarning: X does not have valid feature names, but LinearRegression was fitted with feature names\n",
      "  warnings.warn(\n",
      "c:\\Python\\Python311\\Lib\\site-packages\\sklearn\\base.py:464: UserWarning: X does not have valid feature names, but StandardScaler was fitted with feature names\n",
      "  warnings.warn(\n",
      "c:\\Python\\Python311\\Lib\\site-packages\\sklearn\\base.py:464: UserWarning: X does not have valid feature names, but LinearRegression was fitted with feature names\n",
      "  warnings.warn(\n",
      "c:\\Python\\Python311\\Lib\\site-packages\\sklearn\\base.py:464: UserWarning: X does not have valid feature names, but StandardScaler was fitted with feature names\n",
      "  warnings.warn(\n"
     ]
    },
    {
     "name": "stdout",
     "output_type": "stream",
     "text": [
      "1/1 [==============================] - 0s 31ms/step\n",
      "1/1 [==============================] - 0s 31ms/step\n",
      "1/1 [==============================] - ETA: 0s"
     ]
    },
    {
     "name": "stderr",
     "output_type": "stream",
     "text": [
      "c:\\Python\\Python311\\Lib\\site-packages\\sklearn\\base.py:464: UserWarning: X does not have valid feature names, but LinearRegression was fitted with feature names\n",
      "  warnings.warn(\n",
      "c:\\Python\\Python311\\Lib\\site-packages\\sklearn\\base.py:464: UserWarning: X does not have valid feature names, but StandardScaler was fitted with feature names\n",
      "  warnings.warn(\n",
      "c:\\Python\\Python311\\Lib\\site-packages\\sklearn\\base.py:464: UserWarning: X does not have valid feature names, but LinearRegression was fitted with feature names\n",
      "  warnings.warn(\n",
      "c:\\Python\\Python311\\Lib\\site-packages\\sklearn\\base.py:464: UserWarning: X does not have valid feature names, but StandardScaler was fitted with feature names\n",
      "  warnings.warn(\n"
     ]
    },
    {
     "name": "stdout",
     "output_type": "stream",
     "text": [
      "1/1 [==============================] - 0s 46ms/step\n",
      "1/1 [==============================] - 0s 33ms/step\n",
      "1/1 [==============================] - 0s 37ms/step\n"
     ]
    },
    {
     "name": "stderr",
     "output_type": "stream",
     "text": [
      "c:\\Python\\Python311\\Lib\\site-packages\\sklearn\\base.py:464: UserWarning: X does not have valid feature names, but LinearRegression was fitted with feature names\n",
      "  warnings.warn(\n",
      "c:\\Python\\Python311\\Lib\\site-packages\\sklearn\\base.py:464: UserWarning: X does not have valid feature names, but StandardScaler was fitted with feature names\n",
      "  warnings.warn(\n",
      "c:\\Python\\Python311\\Lib\\site-packages\\sklearn\\base.py:464: UserWarning: X does not have valid feature names, but LinearRegression was fitted with feature names\n",
      "  warnings.warn(\n",
      "c:\\Python\\Python311\\Lib\\site-packages\\sklearn\\base.py:464: UserWarning: X does not have valid feature names, but StandardScaler was fitted with feature names\n",
      "  warnings.warn(\n",
      "c:\\Python\\Python311\\Lib\\site-packages\\sklearn\\base.py:464: UserWarning: X does not have valid feature names, but LinearRegression was fitted with feature names\n",
      "  warnings.warn(\n",
      "c:\\Python\\Python311\\Lib\\site-packages\\sklearn\\base.py:464: UserWarning: X does not have valid feature names, but StandardScaler was fitted with feature names\n",
      "  warnings.warn(\n"
     ]
    },
    {
     "name": "stdout",
     "output_type": "stream",
     "text": [
      "1/1 [==============================] - 0s 33ms/step\n",
      "1/1 [==============================] - 0s 31ms/step\n",
      "1/1 [==============================] - ETA: 0s"
     ]
    },
    {
     "name": "stderr",
     "output_type": "stream",
     "text": [
      "c:\\Python\\Python311\\Lib\\site-packages\\sklearn\\base.py:464: UserWarning: X does not have valid feature names, but LinearRegression was fitted with feature names\n",
      "  warnings.warn(\n",
      "c:\\Python\\Python311\\Lib\\site-packages\\sklearn\\base.py:464: UserWarning: X does not have valid feature names, but StandardScaler was fitted with feature names\n",
      "  warnings.warn(\n",
      "c:\\Python\\Python311\\Lib\\site-packages\\sklearn\\base.py:464: UserWarning: X does not have valid feature names, but LinearRegression was fitted with feature names\n",
      "  warnings.warn(\n",
      "c:\\Python\\Python311\\Lib\\site-packages\\sklearn\\base.py:464: UserWarning: X does not have valid feature names, but StandardScaler was fitted with feature names\n",
      "  warnings.warn(\n"
     ]
    },
    {
     "name": "stdout",
     "output_type": "stream",
     "text": [
      "1/1 [==============================] - 0s 31ms/step\n",
      "1/1 [==============================] - 0s 32ms/step\n",
      "1/1 [==============================] - ETA: 0s"
     ]
    },
    {
     "name": "stderr",
     "output_type": "stream",
     "text": [
      "c:\\Python\\Python311\\Lib\\site-packages\\sklearn\\base.py:464: UserWarning: X does not have valid feature names, but LinearRegression was fitted with feature names\n",
      "  warnings.warn(\n",
      "c:\\Python\\Python311\\Lib\\site-packages\\sklearn\\base.py:464: UserWarning: X does not have valid feature names, but StandardScaler was fitted with feature names\n",
      "  warnings.warn(\n",
      "c:\\Python\\Python311\\Lib\\site-packages\\sklearn\\base.py:464: UserWarning: X does not have valid feature names, but LinearRegression was fitted with feature names\n",
      "  warnings.warn(\n",
      "c:\\Python\\Python311\\Lib\\site-packages\\sklearn\\base.py:464: UserWarning: X does not have valid feature names, but StandardScaler was fitted with feature names\n",
      "  warnings.warn(\n"
     ]
    },
    {
     "name": "stdout",
     "output_type": "stream",
     "text": [
      "1/1 [==============================] - 0s 32ms/step\n",
      "1/1 [==============================] - 0s 32ms/step\n",
      "1/1 [==============================] - ETA: 0s"
     ]
    },
    {
     "name": "stderr",
     "output_type": "stream",
     "text": [
      "c:\\Python\\Python311\\Lib\\site-packages\\sklearn\\base.py:464: UserWarning: X does not have valid feature names, but LinearRegression was fitted with feature names\n",
      "  warnings.warn(\n",
      "c:\\Python\\Python311\\Lib\\site-packages\\sklearn\\base.py:464: UserWarning: X does not have valid feature names, but StandardScaler was fitted with feature names\n",
      "  warnings.warn(\n",
      "c:\\Python\\Python311\\Lib\\site-packages\\sklearn\\base.py:464: UserWarning: X does not have valid feature names, but LinearRegression was fitted with feature names\n",
      "  warnings.warn(\n",
      "c:\\Python\\Python311\\Lib\\site-packages\\sklearn\\base.py:464: UserWarning: X does not have valid feature names, but StandardScaler was fitted with feature names\n",
      "  warnings.warn(\n"
     ]
    },
    {
     "name": "stdout",
     "output_type": "stream",
     "text": [
      "1/1 [==============================] - 0s 34ms/step\n",
      "1/1 [==============================] - 0s 32ms/step\n",
      "1/1 [==============================] - 0s 32ms/step\n"
     ]
    },
    {
     "name": "stderr",
     "output_type": "stream",
     "text": [
      "c:\\Python\\Python311\\Lib\\site-packages\\sklearn\\base.py:464: UserWarning: X does not have valid feature names, but LinearRegression was fitted with feature names\n",
      "  warnings.warn(\n",
      "c:\\Python\\Python311\\Lib\\site-packages\\sklearn\\base.py:464: UserWarning: X does not have valid feature names, but StandardScaler was fitted with feature names\n",
      "  warnings.warn(\n",
      "c:\\Python\\Python311\\Lib\\site-packages\\sklearn\\base.py:464: UserWarning: X does not have valid feature names, but LinearRegression was fitted with feature names\n",
      "  warnings.warn(\n",
      "c:\\Python\\Python311\\Lib\\site-packages\\sklearn\\base.py:464: UserWarning: X does not have valid feature names, but StandardScaler was fitted with feature names\n",
      "  warnings.warn(\n",
      "c:\\Python\\Python311\\Lib\\site-packages\\sklearn\\base.py:464: UserWarning: X does not have valid feature names, but LinearRegression was fitted with feature names\n",
      "  warnings.warn(\n",
      "c:\\Python\\Python311\\Lib\\site-packages\\sklearn\\base.py:464: UserWarning: X does not have valid feature names, but StandardScaler was fitted with feature names\n",
      "  warnings.warn(\n"
     ]
    },
    {
     "name": "stdout",
     "output_type": "stream",
     "text": [
      "1/1 [==============================] - 0s 29ms/step\n",
      "1/1 [==============================] - 0s 32ms/step\n",
      "1/1 [==============================] - 0s 33ms/step\n"
     ]
    },
    {
     "name": "stderr",
     "output_type": "stream",
     "text": [
      "c:\\Python\\Python311\\Lib\\site-packages\\sklearn\\base.py:464: UserWarning: X does not have valid feature names, but LinearRegression was fitted with feature names\n",
      "  warnings.warn(\n",
      "c:\\Python\\Python311\\Lib\\site-packages\\sklearn\\base.py:464: UserWarning: X does not have valid feature names, but StandardScaler was fitted with feature names\n",
      "  warnings.warn(\n",
      "c:\\Python\\Python311\\Lib\\site-packages\\sklearn\\base.py:464: UserWarning: X does not have valid feature names, but LinearRegression was fitted with feature names\n",
      "  warnings.warn(\n",
      "c:\\Python\\Python311\\Lib\\site-packages\\sklearn\\base.py:464: UserWarning: X does not have valid feature names, but StandardScaler was fitted with feature names\n",
      "  warnings.warn(\n",
      "c:\\Python\\Python311\\Lib\\site-packages\\sklearn\\base.py:464: UserWarning: X does not have valid feature names, but LinearRegression was fitted with feature names\n",
      "  warnings.warn(\n",
      "c:\\Python\\Python311\\Lib\\site-packages\\sklearn\\base.py:464: UserWarning: X does not have valid feature names, but StandardScaler was fitted with feature names\n",
      "  warnings.warn(\n"
     ]
    },
    {
     "name": "stdout",
     "output_type": "stream",
     "text": [
      "1/1 [==============================] - 0s 32ms/step\n",
      "Actual: 48500000 | Linear Regression Prediction: 52694016.0 | ANN Prediction: 49063964.0\n",
      "Actual: 31000000 | Linear Regression Prediction: 30418112.0 | ANN Prediction: 30554178.0\n",
      "Actual: 56000000 | Linear Regression Prediction: 52694016.0 | ANN Prediction: 49063964.0\n",
      "Actual: 9000000 | Linear Regression Prediction: 5777152.0 | ANN Prediction: 6844065.5\n",
      "Actual: 8500000 | Linear Regression Prediction: 4907264.0 | ANN Prediction: 7578990.5\n",
      "Actual: 4100000 | Linear Regression Prediction: 14622912.0 | ANN Prediction: 15173141.0\n",
      "Actual: 12000000 | Linear Regression Prediction: 14173184.0 | ANN Prediction: 9205935.0\n",
      "Actual: 58000000 | Linear Regression Prediction: 59878400.0 | ANN Prediction: 61528856.0\n",
      "Actual: 30000000 | Linear Regression Prediction: 36832000.0 | ANN Prediction: 35944180.0\n",
      "Actual: 29500000 | Linear Regression Prediction: 33197952.0 | ANN Prediction: 39021032.0\n",
      "Actual: 41000000 | Linear Regression Prediction: 52694016.0 | ANN Prediction: 49063964.0\n",
      "Actual: 72500000 | Linear Regression Prediction: 66302400.0 | ANN Prediction: 69697712.0\n",
      "Actual: 51000000 | Linear Regression Prediction: 52694016.0 | ANN Prediction: 49063964.0\n",
      "Actual: 11800000 | Linear Regression Prediction: 18642880.0 | ANN Prediction: 17174764.0\n",
      "Actual: 4200000 | Linear Regression Prediction: 1213056.0 | ANN Prediction: 4184766.25\n",
      "Actual: 26500000 | Linear Regression Prediction: 9265088.0 | ANN Prediction: 17963458.0\n",
      "Actual: 13000000 | Linear Regression Prediction: 7577280.0 | ANN Prediction: 7769202.5\n",
      "Actual: 25000000 | Linear Regression Prediction: 20674048.0 | ANN Prediction: 20041182.0\n",
      "Actual: 22500000 | Linear Regression Prediction: 29226688.0 | ANN Prediction: 25722684.0\n",
      "Actual: 8000000 | Linear Regression Prediction: 10149888.0 | ANN Prediction: 8102927.0\n",
      "Actual: 24000000 | Linear Regression Prediction: 15717376.0 | ANN Prediction: 14696294.0\n",
      "Actual: 6000000 | Linear Regression Prediction: 10341888.0 | ANN Prediction: 10247069.0\n",
      "Actual: 7500000 | Linear Regression Prediction: 9640000.0 | ANN Prediction: 8140546.5\n",
      "Actual: 55000000 | Linear Regression Prediction: 30772352.0 | ANN Prediction: 37980464.0\n",
      "Actual: 14500000 | Linear Regression Prediction: 14392960.0 | ANN Prediction: 14356756.0\n",
      "Actual: 50000000 | Linear Regression Prediction: 52694016.0 | ANN Prediction: 49063964.0\n",
      "Actual: 20000000 | Linear Regression Prediction: 14392960.0 | ANN Prediction: 14356756.0\n",
      "Actual: 50000000 | Linear Regression Prediction: 52694016.0 | ANN Prediction: 49063964.0\n",
      "Actual: 44000000 | Linear Regression Prediction: 52694016.0 | ANN Prediction: 49063964.0\n",
      "Actual: 10000000 | Linear Regression Prediction: 14392960.0 | ANN Prediction: 14356756.0\n",
      "Actual: 5500000 | Linear Regression Prediction: 12182976.0 | ANN Prediction: 9508134.0\n",
      "Actual: 9500000 | Linear Regression Prediction: 4409024.0 | ANN Prediction: 6940518.5\n",
      "Actual: 21000000 | Linear Regression Prediction: 26879104.0 | ANN Prediction: 25577342.0\n",
      "Actual: 12800000 | Linear Regression Prediction: 18642880.0 | ANN Prediction: 17174764.0\n",
      "Actual: 16500000 | Linear Regression Prediction: 12741888.0 | ANN Prediction: 12866580.0\n",
      "Actual: 10000000 | Linear Regression Prediction: 10280320.0 | ANN Prediction: 8560520.0\n",
      "Actual: 13000000 | Linear Regression Prediction: 11489024.0 | ANN Prediction: 12427861.0\n",
      "Actual: 67500000 | Linear Regression Prediction: 52694016.0 | ANN Prediction: 49063964.0\n",
      "Actual: 46000000 | Linear Regression Prediction: 41754880.0 | ANN Prediction: 38224856.0\n",
      "Actual: 6500000 | Linear Regression Prediction: 3478592.0 | ANN Prediction: 4799999.5\n",
      "Actual: 11500000 | Linear Regression Prediction: 9142464.0 | ANN Prediction: 13004336.0\n",
      "Actual: 7500000 | Linear Regression Prediction: 12123328.0 | ANN Prediction: 12102382.0\n",
      "Actual: 4500000 | Linear Regression Prediction: 3222912.0 | ANN Prediction: 4664173.5\n",
      "Actual: 11500000 | Linear Regression Prediction: 10831616.0 | ANN Prediction: 11014084.0\n",
      "Actual: 52500000 | Linear Regression Prediction: 37000960.0 | ANN Prediction: 37517792.0\n",
      "Actual: 149000000 | Linear Regression Prediction: 99773184.0 | ANN Prediction: 103866432.0\n",
      "Actual: 9000000 | Linear Regression Prediction: 8024576.0 | ANN Prediction: 7683552.0\n",
      "Actual: 3400000 | Linear Regression Prediction: 4761728.0 | ANN Prediction: 4612327.5\n",
      "Actual: 60000000 | Linear Regression Prediction: 55276352.0 | ANN Prediction: 54738016.0\n",
      "Actual: 9000000 | Linear Regression Prediction: 15500672.0 | ANN Prediction: 13390845.0\n",
      "Actual: 7600000 | Linear Regression Prediction: 4923456.0 | ANN Prediction: 6287688.5\n",
      "Actual: 124900000 | Linear Regression Prediction: 99773184.0 | ANN Prediction: 103866432.0\n",
      "Actual: 32000000 | Linear Regression Prediction: 53580096.0 | ANN Prediction: 52047088.0\n",
      "Actual: 18000000 | Linear Regression Prediction: 24540608.0 | ANN Prediction: 25797048.0\n",
      "Actual: 15300000 | Linear Regression Prediction: 18270144.0 | ANN Prediction: 16877890.0\n",
      "Actual: 50000000 | Linear Regression Prediction: 34552064.0 | ANN Prediction: 45822840.0\n",
      "Actual: 25000000 | Linear Regression Prediction: 26879104.0 | ANN Prediction: 25577342.0\n",
      "Actual: 32500000 | Linear Regression Prediction: 52694016.0 | ANN Prediction: 49063964.0\n",
      "Actual: 13600000 | Linear Regression Prediction: 18661504.0 | ANN Prediction: 18048028.0\n",
      "Actual: 22200000 | Linear Regression Prediction: 14392960.0 | ANN Prediction: 14356756.0\n",
      "Actual: 52500000 | Linear Regression Prediction: 52694016.0 | ANN Prediction: 49063964.0\n",
      "Actual: 22500000 | Linear Regression Prediction: 24958144.0 | ANN Prediction: 22270214.0\n",
      "Actual: 15000000 | Linear Regression Prediction: 18312448.0 | ANN Prediction: 16276976.0\n",
      "Actual: 7500000 | Linear Regression Prediction: 12627968.0 | ANN Prediction: 10359873.0\n",
      "Actual: 11000000 | Linear Regression Prediction: 14392960.0 | ANN Prediction: 14356756.0\n",
      "Actual: 95000000 | Linear Regression Prediction: 97190912.0 | ANN Prediction: 98033528.0\n",
      "Actual: 1650000 | Linear Regression Prediction: 5175808.0 | ANN Prediction: 7369160.5\n",
      "Actual: 50000000 | Linear Regression Prediction: 55276352.0 | ANN Prediction: 54738016.0\n",
      "Actual: 52500000 | Linear Regression Prediction: 36352448.0 | ANN Prediction: 35953176.0\n",
      "Actual: 23000000 | Linear Regression Prediction: 21744896.0 | ANN Prediction: 21726138.0\n",
      "Actual: 39600000 | Linear Regression Prediction: 52694016.0 | ANN Prediction: 49063964.0\n",
      "Actual: 1700000 | Linear Regression Prediction: 2840896.0 | ANN Prediction: 3183394.75\n",
      "Actual: 34000000 | Linear Regression Prediction: 52694016.0 | ANN Prediction: 49063964.0\n",
      "Actual: 24100000 | Linear Regression Prediction: 26879104.0 | ANN Prediction: 25577342.0\n",
      "Actual: 32000000 | Linear Regression Prediction: 9265088.0 | ANN Prediction: 17963458.0\n",
      "Actual: 12500000 | Linear Regression Prediction: 61852352.0 | ANN Prediction: 21134082.0\n",
      "Actual: 8500000 | Linear Regression Prediction: 11867328.0 | ANN Prediction: 11458122.0\n",
      "Actual: 14600000 | Linear Regression Prediction: 14392960.0 | ANN Prediction: 14356756.0\n",
      "Actual: 5400000 | Linear Regression Prediction: 6809728.0 | ANN Prediction: 6511253.5\n",
      "Actual: 8500000 | Linear Regression Prediction: 9937408.0 | ANN Prediction: 7508979.0\n",
      "Actual: 15000000 | Linear Regression Prediction: 15609728.0 | ANN Prediction: 14392630.0\n",
      "Actual: 11500000 | Linear Regression Prediction: 11866496.0 | ANN Prediction: 11851560.0\n",
      "Actual: 18000000 | Linear Regression Prediction: 17514496.0 | ANN Prediction: 16311441.0\n",
      "Actual: 7000000 | Linear Regression Prediction: 12039424.0 | ANN Prediction: 9535312.0\n",
      "Actual: 41500000 | Linear Regression Prediction: 37000960.0 | ANN Prediction: 37517792.0\n",
      "Actual: 13300000 | Linear Regression Prediction: 12123328.0 | ANN Prediction: 12102382.0\n",
      "Actual: 13500000 | Linear Regression Prediction: 17095360.0 | ANN Prediction: 15401402.0\n",
      "Actual: 3000000 | Linear Regression Prediction: 4923456.0 | ANN Prediction: 6287688.5\n",
      "Actual: 37500000 | Linear Regression Prediction: 28497216.0 | ANN Prediction: 26958678.0\n",
      "Actual: 15500000 | Linear Regression Prediction: 24958144.0 | ANN Prediction: 22270214.0\n",
      "Actual: 24500000 | Linear Regression Prediction: 27092416.0 | ANN Prediction: 23967096.0\n",
      "Actual: 3500000 | Linear Regression Prediction: 3188736.0 | ANN Prediction: 7106658.5\n",
      "Actual: 47500000 | Linear Regression Prediction: 50997760.0 | ANN Prediction: 48048280.0\n",
      "Actual: 17500000 | Linear Regression Prediction: 12712768.0 | ANN Prediction: 12957305.0\n",
      "Actual: 9000000 | Linear Regression Prediction: 14392960.0 | ANN Prediction: 14356756.0\n",
      "Actual: 11000000 | Linear Regression Prediction: 13413888.0 | ANN Prediction: 14216743.0\n",
      "Actual: 24000000 | Linear Regression Prediction: 20790144.0 | ANN Prediction: 20228810.0\n",
      "Actual: 89000000 | Linear Regression Prediction: 99773184.0 | ANN Prediction: 103866432.0\n",
      "Actual: 25000000 | Linear Regression Prediction: 20419712.0 | ANN Prediction: 20413130.0\n",
      "Actual: 27500000 | Linear Regression Prediction: 99773184.0 | ANN Prediction: 103866432.0\n"
     ]
    },
    {
     "data": {
      "image/png": "[encoded data removed]",
      "text/plain": [
       "<Figure size 1000x600 with 1 Axes>"
      ]
     },
     "metadata": {},
     "output_type": "display_data"
    }
   ],
   "source": [
    "import matplotlib.pyplot as plt\n",
    "import seaborn as sns\n",
    "from sklearn.metrics import r2_score\n",
    "\n",
    "# Assuming you have the linear regression model named 'model' and ANN model named 'model_ann'\n",
    "# Also, make sure you have the X_test and y_test variables defined\n",
    "\n",
    "# Initialize lists to store results\n",
    "actual_values = []\n",
    "linear_regression_predictions = []\n",
    "ann_predictions = []\n",
    "\n",
    "for i in range(0, len(y_test), 100):\n",
    "    # Extract a record from the test set\n",
    "    test_record = X_test.iloc[i]\n",
    "\n",
    "    # Actual value\n",
    "    actual_value = y_test.iloc[i]\n",
    "    actual_values.append(actual_value)\n",
    "\n",
    "    # Linear Regression prediction\n",
    "    linear_regression_pred = model.predict([test_record])[0]\n",
    "    linear_regression_predictions.append(linear_regression_pred)\n",
    "\n",
    "    # ANN prediction\n",
    "    ann_pred = model_ann.predict(scaler.transform([test_record]))[0][0]\n",
    "    ann_predictions.append(ann_pred)\n",
    "\n",
    "# Print and compare the results\n",
    "for actual, linear_pred, ann_pred in zip(actual_values, linear_regression_predictions, ann_predictions):\n",
    "    print(f'Actual: {actual} | Linear Regression Prediction: {linear_pred} | ANN Prediction: {ann_pred}')\n",
    "\n",
    "# Calculate R-squared for both models\n",
    "r_squared_linear = r2_score(actual_values, linear_regression_predictions)\n",
    "r_squared_ann = r2_score(actual_values, ann_predictions)\n",
    "\n",
    "# Plotting the results\n",
    "plt.figure(figsize=(10, 6))\n",
    "plt.scatter(actual_values, linear_regression_predictions, label=f'Linear Regression (R^2={r_squared_linear:.2f})')\n",
    "plt.scatter(actual_values, ann_predictions, label=f'ANN (R^2={r_squared_ann:.2f})')\n",
    "plt.scatter(actual_values, y_test, )\n",
    "plt.plot([min(actual_values), max(actual_values)], [min(actual_values), max(actual_values)], linestyle='--', color='gray', label='Ideal Fit')\n",
    "plt.title('Actual vs. Predicted Values Comparison')\n",
    "plt.xlabel('Actual Values')\n",
    "plt.ylabel('Predicted Values')\n",
    "plt.legend()\n",
    "plt.show()"
   ]
  },
  {
   "cell_type": "code",
   "execution_count": null,
   "metadata": {},
   "outputs": [],
   "source": []
  }
 ],
 "metadata": {
  "kernelspec": {
   "display_name": "Python 3",
   "language": "python",
   "name": "python3"
  },
  "language_info": {
   "codemirror_mode": {
    "name": "ipython",
    "version": 3
   },
   "file_extension": ".py",
   "mimetype": "text/x-python",
   "name": "python",
   "nbconvert_exporter": "python",
   "pygments_lexer": "ipython3",
   "version": "3.11.4"
  }
 },
 "nbformat": 4,
 "nbformat_minor": 2
}
